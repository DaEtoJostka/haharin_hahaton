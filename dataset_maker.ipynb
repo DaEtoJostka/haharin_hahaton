{
 "cells": [
  {
   "cell_type": "code",
   "execution_count": 21,
   "id": "626da8ac-905c-4c5f-ae0a-b267e0d99d3a",
   "metadata": {},
   "outputs": [],
   "source": [
    "import pandas as pd\n",
    "import numpy as np\n",
    "import json\n",
    "import pickle\n",
    "import re"
   ]
  },
  {
   "cell_type": "code",
   "execution_count": 22,
   "id": "c9280532-6656-4bdb-8c06-3ece1351d4da",
   "metadata": {},
   "outputs": [
    {
     "data": {
      "text/html": [
       "<div>\n",
       "<style scoped>\n",
       "    .dataframe tbody tr th:only-of-type {\n",
       "        vertical-align: middle;\n",
       "    }\n",
       "\n",
       "    .dataframe tbody tr th {\n",
       "        vertical-align: top;\n",
       "    }\n",
       "\n",
       "    .dataframe thead th {\n",
       "        text-align: right;\n",
       "    }\n",
       "</style>\n",
       "<table border=\"1\" class=\"dataframe\">\n",
       "  <thead>\n",
       "    <tr style=\"text-align: right;\">\n",
       "      <th></th>\n",
       "      <th>Unnamed: 0</th>\n",
       "      <th>issuerid</th>\n",
       "      <th>EMITENT_FULL_NAME</th>\n",
       "      <th>datetrackstart</th>\n",
       "      <th>datetrackend</th>\n",
       "      <th>BGTicker</th>\n",
       "      <th>OtherTicker</th>\n",
       "    </tr>\n",
       "  </thead>\n",
       "  <tbody>\n",
       "    <tr>\n",
       "      <th>0</th>\n",
       "      <td>0</td>\n",
       "      <td>1</td>\n",
       "      <td>\"Акционерный коммерческий банк \"Держава\" публи...</td>\n",
       "      <td>2021-06-02 12:47:55.100</td>\n",
       "      <td>NaN</td>\n",
       "      <td>NaN</td>\n",
       "      <td>NaN</td>\n",
       "    </tr>\n",
       "    <tr>\n",
       "      <th>1</th>\n",
       "      <td>1</td>\n",
       "      <td>2</td>\n",
       "      <td>\"МОСКОВСКИЙ КРЕДИТНЫЙ БАНК\" (публичное акционе...</td>\n",
       "      <td>2021-06-02 12:47:55.100</td>\n",
       "      <td>NaN</td>\n",
       "      <td>CBOM RX</td>\n",
       "      <td>NaN</td>\n",
       "    </tr>\n",
       "  </tbody>\n",
       "</table>\n",
       "</div>"
      ],
      "text/plain": [
       "   Unnamed: 0  issuerid                                  EMITENT_FULL_NAME  \\\n",
       "0           0         1  \"Акционерный коммерческий банк \"Держава\" публи...   \n",
       "1           1         2  \"МОСКОВСКИЙ КРЕДИТНЫЙ БАНК\" (публичное акционе...   \n",
       "\n",
       "            datetrackstart  datetrackend BGTicker OtherTicker  \n",
       "0  2021-06-02 12:47:55.100           NaN      NaN         NaN  \n",
       "1  2021-06-02 12:47:55.100           NaN  CBOM RX         NaN  "
      ]
     },
     "execution_count": 22,
     "metadata": {},
     "output_type": "execute_result"
    }
   ],
   "source": [
    "issuers = pd.read_excel('data/sentiment_dataset/issuers.xlsx')\n",
    "issuers.head(2)"
   ]
  },
  {
   "cell_type": "code",
   "execution_count": 23,
   "id": "cef8b26a-6c0e-46b1-b279-616803da1cbf",
   "metadata": {},
   "outputs": [
    {
     "data": {
      "text/html": [
       "<div>\n",
       "<style scoped>\n",
       "    .dataframe tbody tr th:only-of-type {\n",
       "        vertical-align: middle;\n",
       "    }\n",
       "\n",
       "    .dataframe tbody tr th {\n",
       "        vertical-align: top;\n",
       "    }\n",
       "\n",
       "    .dataframe thead th {\n",
       "        text-align: right;\n",
       "    }\n",
       "</style>\n",
       "<table border=\"1\" class=\"dataframe\">\n",
       "  <thead>\n",
       "    <tr style=\"text-align: right;\">\n",
       "      <th></th>\n",
       "      <th>issuerid</th>\n",
       "      <th>EMITENT_FULL_NAME</th>\n",
       "      <th>VeryOddCompany</th>\n",
       "      <th>BGTicker</th>\n",
       "      <th>BGTicker.1</th>\n",
       "      <th>Unnamed: 5</th>\n",
       "      <th>Unnamed: 6</th>\n",
       "      <th>Unnamed: 7</th>\n",
       "      <th>Unnamed: 8</th>\n",
       "      <th>Unnamed: 9</th>\n",
       "      <th>Unnamed: 10</th>\n",
       "      <th>Unnamed: 11</th>\n",
       "      <th>Unnamed: 12</th>\n",
       "      <th>Unnamed: 13</th>\n",
       "      <th>Unnamed: 14</th>\n",
       "    </tr>\n",
       "  </thead>\n",
       "  <tbody>\n",
       "    <tr>\n",
       "      <th>0</th>\n",
       "      <td>1</td>\n",
       "      <td>Акционерный коммерческий банк \"Держава\" публич...</td>\n",
       "      <td>NaN</td>\n",
       "      <td>NaN</td>\n",
       "      <td>DERZP</td>\n",
       "      <td>Держава</td>\n",
       "      <td>DERZHAVA</td>\n",
       "      <td>DERZ</td>\n",
       "      <td>NaN</td>\n",
       "      <td>NaN</td>\n",
       "      <td>NaN</td>\n",
       "      <td>NaN</td>\n",
       "      <td>NaN</td>\n",
       "      <td>NaN</td>\n",
       "      <td>NaN</td>\n",
       "    </tr>\n",
       "    <tr>\n",
       "      <th>1</th>\n",
       "      <td>2</td>\n",
       "      <td>\"МОСКОВСКИЙ КРЕДИТНЫЙ БАНК\" (публичное акционе...</td>\n",
       "      <td>NaN</td>\n",
       "      <td>CBOM RX</td>\n",
       "      <td>NaN</td>\n",
       "      <td>Московский кредитный банк</td>\n",
       "      <td>мкб</td>\n",
       "      <td>Credit Bank of Moscow</td>\n",
       "      <td>Credit Bank</td>\n",
       "      <td>NaN</td>\n",
       "      <td>NaN</td>\n",
       "      <td>NaN</td>\n",
       "      <td>NaN</td>\n",
       "      <td>NaN</td>\n",
       "      <td>NaN</td>\n",
       "    </tr>\n",
       "  </tbody>\n",
       "</table>\n",
       "</div>"
      ],
      "text/plain": [
       "   issuerid                                  EMITENT_FULL_NAME  \\\n",
       "0         1  Акционерный коммерческий банк \"Держава\" публич...   \n",
       "1         2  \"МОСКОВСКИЙ КРЕДИТНЫЙ БАНК\" (публичное акционе...   \n",
       "\n",
       "   VeryOddCompany BGTicker BGTicker.1                 Unnamed: 5 Unnamed: 6  \\\n",
       "0             NaN      NaN      DERZP                    Держава   DERZHAVA   \n",
       "1             NaN  CBOM RX        NaN  Московский кредитный банк        мкб   \n",
       "\n",
       "              Unnamed: 7   Unnamed: 8 Unnamed: 9 Unnamed: 10 Unnamed: 11  \\\n",
       "0                   DERZ          NaN        NaN         NaN         NaN   \n",
       "1  Credit Bank of Moscow  Credit Bank        NaN         NaN         NaN   \n",
       "\n",
       "  Unnamed: 12 Unnamed: 13 Unnamed: 14  \n",
       "0         NaN         NaN         NaN  \n",
       "1         NaN         NaN         NaN  "
      ]
     },
     "execution_count": 23,
     "metadata": {},
     "output_type": "execute_result"
    }
   ],
   "source": [
    "syn = pd.read_excel('data/sentiment_dataset/names and synonyms.xlsx')\n",
    "syn.head(2)"
   ]
  },
  {
   "cell_type": "code",
   "execution_count": 24,
   "id": "d21e11b2-1687-461a-b03d-419ba9f2ff2c",
   "metadata": {},
   "outputs": [
    {
     "name": "stderr",
     "output_type": "stream",
     "text": [
      "<>:1: SyntaxWarning: invalid escape sequence '\\s'\n",
      "<>:1: SyntaxWarning: invalid escape sequence '\\s'\n",
      "C:\\Users\\karlo\\AppData\\Local\\Temp\\ipykernel_3944\\671844907.py:1: SyntaxWarning: invalid escape sequence '\\s'\n",
      "  names_texts = pd.read_csv('data\\sentiment_dataset\\mentions_text.csv')\n"
     ]
    },
    {
     "data": {
      "text/html": [
       "<div>\n",
       "<style scoped>\n",
       "    .dataframe tbody tr th:only-of-type {\n",
       "        vertical-align: middle;\n",
       "    }\n",
       "\n",
       "    .dataframe tbody tr th {\n",
       "        vertical-align: top;\n",
       "    }\n",
       "\n",
       "    .dataframe thead th {\n",
       "        text-align: right;\n",
       "    }\n",
       "</style>\n",
       "<table border=\"1\" class=\"dataframe\">\n",
       "  <thead>\n",
       "    <tr style=\"text-align: right;\">\n",
       "      <th></th>\n",
       "      <th>Unnamed: 0</th>\n",
       "      <th>ChannelID</th>\n",
       "      <th>messageid</th>\n",
       "      <th>issuerid</th>\n",
       "      <th>MessageID</th>\n",
       "      <th>DateAdded</th>\n",
       "      <th>DatePosted</th>\n",
       "      <th>MessageText</th>\n",
       "      <th>IsForward</th>\n",
       "    </tr>\n",
       "  </thead>\n",
       "  <tbody>\n",
       "    <tr>\n",
       "      <th>0</th>\n",
       "      <td>0</td>\n",
       "      <td>1197210433</td>\n",
       "      <td>5408</td>\n",
       "      <td>90</td>\n",
       "      <td>5408</td>\n",
       "      <td>2021-02-06 01:42:42</td>\n",
       "      <td>2020-04-29 07:29:01</td>\n",
       "      <td>?? Фокус недели #ФН  Сегодня ????? ММК опублик...</td>\n",
       "      <td>False</td>\n",
       "    </tr>\n",
       "    <tr>\n",
       "      <th>1</th>\n",
       "      <td>1</td>\n",
       "      <td>1203560567</td>\n",
       "      <td>64803</td>\n",
       "      <td>57</td>\n",
       "      <td>64803</td>\n",
       "      <td>2021-02-06 01:47:00</td>\n",
       "      <td>2020-01-21 12:51:42</td>\n",
       "      <td>??#LSRG  ЛСР - операционные результаты (2019г)...</td>\n",
       "      <td>False</td>\n",
       "    </tr>\n",
       "  </tbody>\n",
       "</table>\n",
       "</div>"
      ],
      "text/plain": [
       "   Unnamed: 0   ChannelID  messageid  issuerid  MessageID  \\\n",
       "0           0  1197210433       5408        90       5408   \n",
       "1           1  1203560567      64803        57      64803   \n",
       "\n",
       "             DateAdded           DatePosted  \\\n",
       "0  2021-02-06 01:42:42  2020-04-29 07:29:01   \n",
       "1  2021-02-06 01:47:00  2020-01-21 12:51:42   \n",
       "\n",
       "                                         MessageText  IsForward  \n",
       "0  ?? Фокус недели #ФН  Сегодня ????? ММК опублик...      False  \n",
       "1  ??#LSRG  ЛСР - операционные результаты (2019г)...      False  "
      ]
     },
     "execution_count": 24,
     "metadata": {},
     "output_type": "execute_result"
    }
   ],
   "source": [
    "names_texts = pd.read_csv('data\\sentiment_dataset\\mentions_text.csv')\n",
    "names_texts.head(2)"
   ]
  },
  {
   "cell_type": "code",
   "execution_count": 25,
   "id": "751eef1c-3b8e-419f-896a-ccf5ce27ed65",
   "metadata": {},
   "outputs": [
    {
     "name": "stderr",
     "output_type": "stream",
     "text": [
      "<>:1: SyntaxWarning: invalid escape sequence '\\s'\n",
      "<>:1: SyntaxWarning: invalid escape sequence '\\s'\n",
      "C:\\Users\\karlo\\AppData\\Local\\Temp\\ipykernel_3944\\3656835817.py:1: SyntaxWarning: invalid escape sequence '\\s'\n",
      "  sent_texts = pd.read_csv('data\\sentiment_dataset\\sentiment_text.csv')\n"
     ]
    },
    {
     "data": {
      "text/html": [
       "<div>\n",
       "<style scoped>\n",
       "    .dataframe tbody tr th:only-of-type {\n",
       "        vertical-align: middle;\n",
       "    }\n",
       "\n",
       "    .dataframe tbody tr th {\n",
       "        vertical-align: top;\n",
       "    }\n",
       "\n",
       "    .dataframe thead th {\n",
       "        text-align: right;\n",
       "    }\n",
       "</style>\n",
       "<table border=\"1\" class=\"dataframe\">\n",
       "  <thead>\n",
       "    <tr style=\"text-align: right;\">\n",
       "      <th></th>\n",
       "      <th>Unnamed: 0</th>\n",
       "      <th>MessageID</th>\n",
       "      <th>ChannelID</th>\n",
       "      <th>issuerid</th>\n",
       "      <th>SentimentScore</th>\n",
       "      <th>DateAdded</th>\n",
       "      <th>DatePosted</th>\n",
       "      <th>MessageText</th>\n",
       "      <th>IsForward</th>\n",
       "    </tr>\n",
       "  </thead>\n",
       "  <tbody>\n",
       "    <tr>\n",
       "      <th>0</th>\n",
       "      <td>0</td>\n",
       "      <td>241407</td>\n",
       "      <td>1203560567</td>\n",
       "      <td>153</td>\n",
       "      <td>2</td>\n",
       "      <td>2023-05-12 19:03:20</td>\n",
       "      <td>2023-05-12 19:02:42</td>\n",
       "      <td>⚠️🇷🇺#SELG #дивиденд  сд Селигдар: дивиденды 20...</td>\n",
       "      <td>False</td>\n",
       "    </tr>\n",
       "    <tr>\n",
       "      <th>1</th>\n",
       "      <td>1</td>\n",
       "      <td>33684</td>\n",
       "      <td>1136626166</td>\n",
       "      <td>230</td>\n",
       "      <td>4</td>\n",
       "      <td>2023-02-03 20:56:29</td>\n",
       "      <td>2023-02-03 16:46:34</td>\n",
       "      <td>Ozon продолжает развивать специализированные ф...</td>\n",
       "      <td>False</td>\n",
       "    </tr>\n",
       "  </tbody>\n",
       "</table>\n",
       "</div>"
      ],
      "text/plain": [
       "   Unnamed: 0  MessageID   ChannelID  issuerid  SentimentScore  \\\n",
       "0           0     241407  1203560567       153               2   \n",
       "1           1      33684  1136626166       230               4   \n",
       "\n",
       "             DateAdded           DatePosted  \\\n",
       "0  2023-05-12 19:03:20  2023-05-12 19:02:42   \n",
       "1  2023-02-03 20:56:29  2023-02-03 16:46:34   \n",
       "\n",
       "                                         MessageText  IsForward  \n",
       "0  ⚠️🇷🇺#SELG #дивиденд  сд Селигдар: дивиденды 20...      False  \n",
       "1  Ozon продолжает развивать специализированные ф...      False  "
      ]
     },
     "execution_count": 25,
     "metadata": {},
     "output_type": "execute_result"
    }
   ],
   "source": [
    "sent_texts = pd.read_csv('data\\sentiment_dataset\\sentiment_text.csv')\n",
    "sent_texts.head(2)"
   ]
  },
  {
   "cell_type": "code",
   "execution_count": 26,
   "id": "9c1a19fb-96c2-482f-802d-187379fa75c4",
   "metadata": {},
   "outputs": [
    {
     "data": {
      "text/plain": [
       "7188"
      ]
     },
     "execution_count": 26,
     "metadata": {},
     "output_type": "execute_result"
    }
   ],
   "source": [
    "uniq_sent = sent_texts['MessageText'].unique()\n",
    "len(uniq_sent)"
   ]
  },
  {
   "cell_type": "code",
   "execution_count": 27,
   "id": "b18f784c-025c-4a17-8090-1c0987243a06",
   "metadata": {},
   "outputs": [],
   "source": [
    "d = {}\n",
    "for i in range(len(uniq_sent)):\n",
    "    d[uniq_sent[i]] = i"
   ]
  },
  {
   "cell_type": "code",
   "execution_count": 28,
   "id": "763e5f3e-4316-4578-9471-469aac73b388",
   "metadata": {},
   "outputs": [],
   "source": [
    "sent_texts['text_id'] = sent_texts['MessageText'].map(d)"
   ]
  },
  {
   "cell_type": "code",
   "execution_count": 29,
   "id": "c9f53073-3696-42d6-8b03-adcf89eb53af",
   "metadata": {},
   "outputs": [
    {
     "data": {
      "text/html": [
       "<div>\n",
       "<style scoped>\n",
       "    .dataframe tbody tr th:only-of-type {\n",
       "        vertical-align: middle;\n",
       "    }\n",
       "\n",
       "    .dataframe tbody tr th {\n",
       "        vertical-align: top;\n",
       "    }\n",
       "\n",
       "    .dataframe thead th {\n",
       "        text-align: right;\n",
       "    }\n",
       "</style>\n",
       "<table border=\"1\" class=\"dataframe\">\n",
       "  <thead>\n",
       "    <tr style=\"text-align: right;\">\n",
       "      <th></th>\n",
       "      <th>Unnamed: 0</th>\n",
       "      <th>MessageID</th>\n",
       "      <th>ChannelID</th>\n",
       "      <th>issuerid</th>\n",
       "      <th>SentimentScore</th>\n",
       "      <th>DateAdded</th>\n",
       "      <th>DatePosted</th>\n",
       "      <th>MessageText</th>\n",
       "      <th>IsForward</th>\n",
       "      <th>text_id</th>\n",
       "    </tr>\n",
       "  </thead>\n",
       "  <tbody>\n",
       "    <tr>\n",
       "      <th>4</th>\n",
       "      <td>4</td>\n",
       "      <td>9826</td>\n",
       "      <td>1063908560</td>\n",
       "      <td>89</td>\n",
       "      <td>2</td>\n",
       "      <td>2023-04-24 17:51:38</td>\n",
       "      <td>2023-04-24 13:54:00</td>\n",
       "      <td>​​Windfall Tax — налог на сверхприбыль. Какие ...</td>\n",
       "      <td>False</td>\n",
       "      <td>3</td>\n",
       "    </tr>\n",
       "    <tr>\n",
       "      <th>5</th>\n",
       "      <td>5</td>\n",
       "      <td>9826</td>\n",
       "      <td>1063908560</td>\n",
       "      <td>127</td>\n",
       "      <td>2</td>\n",
       "      <td>2023-04-24 17:51:38</td>\n",
       "      <td>2023-04-24 13:54:00</td>\n",
       "      <td>​​Windfall Tax — налог на сверхприбыль. Какие ...</td>\n",
       "      <td>False</td>\n",
       "      <td>3</td>\n",
       "    </tr>\n",
       "    <tr>\n",
       "      <th>6</th>\n",
       "      <td>6</td>\n",
       "      <td>9826</td>\n",
       "      <td>1063908560</td>\n",
       "      <td>150</td>\n",
       "      <td>2</td>\n",
       "      <td>2023-04-24 17:51:38</td>\n",
       "      <td>2023-04-24 13:54:00</td>\n",
       "      <td>​​Windfall Tax — налог на сверхприбыль. Какие ...</td>\n",
       "      <td>False</td>\n",
       "      <td>3</td>\n",
       "    </tr>\n",
       "    <tr>\n",
       "      <th>7</th>\n",
       "      <td>7</td>\n",
       "      <td>9826</td>\n",
       "      <td>1063908560</td>\n",
       "      <td>7</td>\n",
       "      <td>2</td>\n",
       "      <td>2023-04-24 17:51:38</td>\n",
       "      <td>2023-04-24 13:54:00</td>\n",
       "      <td>​​Windfall Tax — налог на сверхприбыль. Какие ...</td>\n",
       "      <td>False</td>\n",
       "      <td>3</td>\n",
       "    </tr>\n",
       "  </tbody>\n",
       "</table>\n",
       "</div>"
      ],
      "text/plain": [
       "   Unnamed: 0  MessageID   ChannelID  issuerid  SentimentScore  \\\n",
       "4           4       9826  1063908560        89               2   \n",
       "5           5       9826  1063908560       127               2   \n",
       "6           6       9826  1063908560       150               2   \n",
       "7           7       9826  1063908560         7               2   \n",
       "\n",
       "             DateAdded           DatePosted  \\\n",
       "4  2023-04-24 17:51:38  2023-04-24 13:54:00   \n",
       "5  2023-04-24 17:51:38  2023-04-24 13:54:00   \n",
       "6  2023-04-24 17:51:38  2023-04-24 13:54:00   \n",
       "7  2023-04-24 17:51:38  2023-04-24 13:54:00   \n",
       "\n",
       "                                         MessageText  IsForward  text_id  \n",
       "4  ​​Windfall Tax — налог на сверхприбыль. Какие ...      False        3  \n",
       "5  ​​Windfall Tax — налог на сверхприбыль. Какие ...      False        3  \n",
       "6  ​​Windfall Tax — налог на сверхприбыль. Какие ...      False        3  \n",
       "7  ​​Windfall Tax — налог на сверхприбыль. Какие ...      False        3  "
      ]
     },
     "execution_count": 29,
     "metadata": {},
     "output_type": "execute_result"
    }
   ],
   "source": [
    "i = 3\n",
    "sent_texts.loc[sent_texts['text_id']==i]"
   ]
  },
  {
   "cell_type": "code",
   "execution_count": 30,
   "id": "9f8c9dfd-5d43-42b8-8262-a8f633176d87",
   "metadata": {},
   "outputs": [
    {
     "data": {
      "text/html": [
       "<div>\n",
       "<style scoped>\n",
       "    .dataframe tbody tr th:only-of-type {\n",
       "        vertical-align: middle;\n",
       "    }\n",
       "\n",
       "    .dataframe tbody tr th {\n",
       "        vertical-align: top;\n",
       "    }\n",
       "\n",
       "    .dataframe thead th {\n",
       "        text-align: right;\n",
       "    }\n",
       "</style>\n",
       "<table border=\"1\" class=\"dataframe\">\n",
       "  <thead>\n",
       "    <tr style=\"text-align: right;\">\n",
       "      <th></th>\n",
       "      <th>219</th>\n",
       "    </tr>\n",
       "  </thead>\n",
       "  <tbody>\n",
       "    <tr>\n",
       "      <th>issuerid</th>\n",
       "      <td>220</td>\n",
       "    </tr>\n",
       "    <tr>\n",
       "      <th>EMITENT_FULL_NAME</th>\n",
       "      <td>Globaltrans Investment PLC (Глобалтранс Инвест...</td>\n",
       "    </tr>\n",
       "    <tr>\n",
       "      <th>VeryOddCompany</th>\n",
       "      <td>NaN</td>\n",
       "    </tr>\n",
       "    <tr>\n",
       "      <th>BGTicker</th>\n",
       "      <td>GLTR LI</td>\n",
       "    </tr>\n",
       "    <tr>\n",
       "      <th>BGTicker.1</th>\n",
       "      <td>NaN</td>\n",
       "    </tr>\n",
       "    <tr>\n",
       "      <th>Unnamed: 5</th>\n",
       "      <td>Globaltrans</td>\n",
       "    </tr>\n",
       "    <tr>\n",
       "      <th>Unnamed: 6</th>\n",
       "      <td>Глобалтранс</td>\n",
       "    </tr>\n",
       "    <tr>\n",
       "      <th>Unnamed: 7</th>\n",
       "      <td>NaN</td>\n",
       "    </tr>\n",
       "    <tr>\n",
       "      <th>Unnamed: 8</th>\n",
       "      <td>NaN</td>\n",
       "    </tr>\n",
       "    <tr>\n",
       "      <th>Unnamed: 9</th>\n",
       "      <td>NaN</td>\n",
       "    </tr>\n",
       "    <tr>\n",
       "      <th>Unnamed: 10</th>\n",
       "      <td>NaN</td>\n",
       "    </tr>\n",
       "    <tr>\n",
       "      <th>Unnamed: 11</th>\n",
       "      <td>NaN</td>\n",
       "    </tr>\n",
       "    <tr>\n",
       "      <th>Unnamed: 12</th>\n",
       "      <td>NaN</td>\n",
       "    </tr>\n",
       "    <tr>\n",
       "      <th>Unnamed: 13</th>\n",
       "      <td>NaN</td>\n",
       "    </tr>\n",
       "    <tr>\n",
       "      <th>Unnamed: 14</th>\n",
       "      <td>NaN</td>\n",
       "    </tr>\n",
       "  </tbody>\n",
       "</table>\n",
       "</div>"
      ],
      "text/plain": [
       "                                                                 219\n",
       "issuerid                                                         220\n",
       "EMITENT_FULL_NAME  Globaltrans Investment PLC (Глобалтранс Инвест...\n",
       "VeryOddCompany                                                   NaN\n",
       "BGTicker                                                     GLTR LI\n",
       "BGTicker.1                                                       NaN\n",
       "Unnamed: 5                                               Globaltrans\n",
       "Unnamed: 6                                               Глобалтранс\n",
       "Unnamed: 7                                                       NaN\n",
       "Unnamed: 8                                                       NaN\n",
       "Unnamed: 9                                                       NaN\n",
       "Unnamed: 10                                                      NaN\n",
       "Unnamed: 11                                                      NaN\n",
       "Unnamed: 12                                                      NaN\n",
       "Unnamed: 13                                                      NaN\n",
       "Unnamed: 14                                                      NaN"
      ]
     },
     "execution_count": 30,
     "metadata": {},
     "output_type": "execute_result"
    }
   ],
   "source": [
    "syn.loc[syn['issuerid']==220].T"
   ]
  },
  {
   "cell_type": "code",
   "execution_count": 31,
   "id": "920e6b31-2f11-46d0-8cdd-2394eafd532b",
   "metadata": {},
   "outputs": [
    {
     "data": {
      "text/plain": [
       "'\\u200b\\u200bWindfall Tax — налог на сверхприбыль. Какие компании заплатят Минфину.  Многие понимают, что наш бюджет испытывает трудности и его необходимо наполнять всевозможными способами. Минфин использует различные финансовые рычаги: выход на долговой рынок — ОФЗ, продажа золота и юаней из ФНБ, но одним из главных является налоговый.   Как вы могли заметить, повышение НДПИ (налог на добычу полезных ископаемых) для различных отраслей в этом году уже состоялось. Причём некоторые заплатили разовый уже в прошлом и будут платить в этом: Газпром, Алроса. Это не считая того, что повысили процент на акцизы, штрафы, пошлины, тарифы и сборы.   Windfall Tax — совсем другая история.  Законопроект по налогу пока ещё не опубликован, но у заинтересованных лиц он уже есть на руках, его обсуждают различные издания и комментируют известные личности в финансовых кругах.   Налоговой базой для Windfall Tax будет превышение средней арифметической величины прибыли за 2021 год и за 2022 год над прибылью за 2018 и за 2019 годы.   К плательщикам налога отнесены российские компании, а также иностранные, которые ведут деятельность в России. Конечно, есть исключения, не будут платить: ▪️ Нефтяные и нефтеперерабатывающие компании (приходится доплачивать в бюджет поболее) ▪️ Угольные компании (повышение НДПИ) ▪️ Производители СПГ (до 34% увеличился налог на прибыль для экспортёров СПГ) ▪️ МСП (малые и средние предприятия) ▪️ Компаний с чистой доналоговой прибылью за 2021-2022 годы менее 1₽ млрд или равной этой сумме  Разовый сбор из сверхприбыли российского бизнеса за 2021–2022 годы составит 10% от суммы превышения прибыли над показателем за 2018–2019 годы. При досрочной уплате (с 1 октября по 30 ноября 2023 года) размер Windfall Tax составит 5%. Законопроект вступит в силу с 1 января 2024 года.  Какие же компании заплатят и сколько?  Как вы помните в 2021 году сверхприбыли были у банковского сектора, металлургического, девелоперов и производителей удобрений.   Поэтому наибольший разовый сбор заплатят Сбербанк (20,4₽ млрд), Норникель (18,3₽ млрд) и НЛМК (15₽ млрд).   Такие данные привёл генеральный директор управляющей компании «Грин Лайт Менеджмент» Денис Сверчков. Также в первую десятку плательщиков войдут: ФосАгро (12,1₽ млрд), Русал (10,4₽ млрд), Северсталь (9,5₽ млрд), ММК (9,2₽ млрд), ВТБ (6,8₽ млрд), Полюс (6,3₽ млрд) и ПИК (5,3₽ млрд).   И это при том что у некоторых компаний 2022 год был убыточным, они отказались от выплаты дивидендов и перешли в стадию экономии. Вопрос в том, что дополнительные средства для уплаты Windfall Tax где-то надо изыскать, а значит пройдёт сокращение на инвестпрограммы или дивидендные выплаты.  P.S. Сбербанк оценивает потенциальную выплату Windfall Tax для себя в сумму около 10₽ млрд, воспользуется опцией заплатить досрочно — Герман Греф  С уважением, Владислав Кофанов  Комментируйте на Смартлабе: https://smart-lab.ru/blog/897501.php'"
      ]
     },
     "execution_count": 31,
     "metadata": {},
     "output_type": "execute_result"
    }
   ],
   "source": [
    "uniq_sent[i]"
   ]
  },
  {
   "cell_type": "code",
   "execution_count": 32,
   "id": "85535761-dfb0-4a26-8490-1a33bf9b8d6f",
   "metadata": {},
   "outputs": [
    {
     "data": {
      "text/plain": [
       "'?? Фокус недели #ФН  Сегодня ????? ММК опубликует финансовую отчётность за 1 кв. 2020 #MAGN #Отчетность ?????? Магнит представит операционные результаты за 1 кв. 2020 #MGNT #Результаты ?????? Новатэк опубликует финансовую отчётность за 1 кв. 2020 #NVTK #Отчетность ?????? ФРС США представит решение по процентной ставке #ФРС #Макро ?????? Tesla опубликует финансовую отчётность за 1 кв. 2020 #TSLA #Отчетность  ?????? Microsoft опубликует финансовую отчётность за 1 кв. 2020 #MSFT #Отчетность  ?????? Facebook опубликует финансовую отчётность за 1 кв. 2020 #FB #Отчетность  30 апреля ?????? Детский мир опубликует финансовую отчётность по МСФО за 2019 #DSKY #Отчетность ?????? Энел Россия опубликует финансовую отчётность по РСБУ за 1 кв. #ENRU #Отчетность ????? Evraz представит операционные результаты за 1 кв. 2020 #EVR #Результаты ????? НорНикель опубликует производственные результаты за 1 кв. 2020 #GMKN #Результаты ?????? РусГидро представит финансовую отчётность по РСБУ за 1 кв. 2020 #HYDR #Отчетность ????? СД НЛМК рассмотрит дивиденды за 1 кв. 2020 #NLMK #Дивиденды  ?????? Apple опубликует финансовую отчётность за 1 кв. 2020 #AAPL #Отчетность  ?????? Amazon опубликует финансовую отчётность за 1 кв. 2020 #AMZN #Отчетность  ?????? Gilead опубликует финансовую отчётность за 1 кв. 2020 #GILD #Отчетность  1 мая ?????? Торги на МосБирже не проводятся из-за праздников #MOEX #График ?????? Exxon Mobil опубликует финансовую отчетность за 1 кв. 2020 #XOM #Отчетность  ?????? Chevron публикует финансовую отчетность за 1 кв. 2020 #CVX #Отчетность  4 мая ?????? Акции ЦМТ последний день торгуются с дивидендом 0,56 руб. на акцию #WTCM #Дивиденды'"
      ]
     },
     "execution_count": 32,
     "metadata": {},
     "output_type": "execute_result"
    }
   ],
   "source": [
    "uniq_texts = names_texts['MessageText'].unique()\n",
    "uniq_texts[0]"
   ]
  },
  {
   "cell_type": "code",
   "execution_count": 33,
   "id": "fb66aeb9-cfbf-49b8-86a1-aec594d9f026",
   "metadata": {},
   "outputs": [
    {
     "data": {
      "text/plain": [
       "16611"
      ]
     },
     "execution_count": 33,
     "metadata": {},
     "output_type": "execute_result"
    }
   ],
   "source": [
    "len(uniq_texts)"
   ]
  },
  {
   "cell_type": "code",
   "execution_count": 34,
   "id": "45934791-e863-43b7-ae6b-1f8f4e87df7e",
   "metadata": {},
   "outputs": [
    {
     "data": {
      "text/plain": [
       "'?? Фокус недели #ФН  Сегодня ????? ММК опубликует финансовую отчётность за 1 кв. 2020 #MAGN #Отчетность ?????? Магнит представит операционные результаты за 1 кв. 2020 #MGNT #Результаты ?????? Новатэк опубликует финансовую отчётность за 1 кв. 2020 #NVTK #Отчетность ?????? ФРС США представит решение по процентной ставке #ФРС #Макро ?????? Tesla опубликует финансовую отчётность за 1 кв. 2020 #TSLA #Отчетность  ?????? Microsoft опубликует финансовую отчётность за 1 кв. 2020 #MSFT #Отчетность  ?????? Facebook опубликует финансовую отчётность за 1 кв. 2020 #FB #Отчетность  30 апреля ?????? Детский мир опубликует финансовую отчётность по МСФО за 2019 #DSKY #Отчетность ?????? Энел Россия опубликует финансовую отчётность по РСБУ за 1 кв. #ENRU #Отчетность ????? Evraz представит операционные результаты за 1 кв. 2020 #EVR #Результаты ????? НорНикель опубликует производственные результаты за 1 кв. 2020 #GMKN #Результаты ?????? РусГидро представит финансовую отчётность по РСБУ за 1 кв. 2020 #HYDR #Отчетность ????? СД НЛМК рассмотрит дивиденды за 1 кв. 2020 #NLMK #Дивиденды  ?????? Apple опубликует финансовую отчётность за 1 кв. 2020 #AAPL #Отчетность  ?????? Amazon опубликует финансовую отчётность за 1 кв. 2020 #AMZN #Отчетность  ?????? Gilead опубликует финансовую отчётность за 1 кв. 2020 #GILD #Отчетность  1 мая ?????? Торги на МосБирже не проводятся из-за праздников #MOEX #График ?????? Exxon Mobil опубликует финансовую отчетность за 1 кв. 2020 #XOM #Отчетность  ?????? Chevron публикует финансовую отчетность за 1 кв. 2020 #CVX #Отчетность  4 мая ?????? Акции ЦМТ последний день торгуются с дивидендом 0,56 руб. на акцию #WTCM #Дивиденды'"
      ]
     },
     "execution_count": 34,
     "metadata": {},
     "output_type": "execute_result"
    }
   ],
   "source": [
    "uniq_texts[0]"
   ]
  },
  {
   "cell_type": "code",
   "execution_count": 35,
   "id": "b1f0d7f1-96cd-4630-8b03-f7390ce2b6e6",
   "metadata": {},
   "outputs": [
    {
     "data": {
      "text/plain": [
       "' Фокус недели #ФН Сегодня ММК опубликует финансовую отчётность за 1 кв. 2020 #MAGN #Отчетность Магнит представит операционные результаты за 1 кв. 2020 #MGNT #Результаты Новатэк опубликует финансовую отчётность за 1 кв. 2020 #NVTK #Отчетность ФРС США представит решение по процентной ставке #ФРС #Макро Tesla опубликует финансовую отчётность за 1 кв. 2020 #TSLA #Отчетность Microsoft опубликует финансовую отчётность за 1 кв. 2020 #MSFT #Отчетность Facebook опубликует финансовую отчётность за 1 кв. 2020 #FB #Отчетность 30 апреля Детский мир опубликует финансовую отчётность по МСФО за 2019 #DSKY #Отчетность Энел Россия опубликует финансовую отчётность по РСБУ за 1 кв. #ENRU #Отчетность Evraz представит операционные результаты за 1 кв. 2020 #EVR #Результаты НорНикель опубликует производственные результаты за 1 кв. 2020 #GMKN #Результаты РусГидро представит финансовую отчётность по РСБУ за 1 кв. 2020 #HYDR #Отчетность СД НЛМК рассмотрит дивиденды за 1 кв. 2020 #NLMK #Дивиденды Apple опубликует финансовую отчётность за 1 кв. 2020 #AAPL #Отчетность Amazon опубликует финансовую отчётность за 1 кв. 2020 #AMZN #Отчетность Gilead опубликует финансовую отчётность за 1 кв. 2020 #GILD #Отчетность 1 мая Торги на МосБирже не проводятся из-за праздников #MOEX #График Exxon Mobil опубликует финансовую отчетность за 1 кв. 2020 #XOM #Отчетность Chevron публикует финансовую отчетность за 1 кв. 2020 #CVX #Отчетность 4 мая Акции ЦМТ последний день торгуются с дивидендом 0,56 руб. на акцию #WTCM #Дивиденды'"
      ]
     },
     "execution_count": 35,
     "metadata": {},
     "output_type": "execute_result"
    }
   ],
   "source": [
    "text = uniq_texts[0]\n",
    "text = re.sub(r'\\?{2,}', '', text)\n",
    "text = re.sub(r'\\s{2,}', ' ', text)\n",
    "text = re.sub(r'\\@\\S{2,}', '', text)\n",
    "text = re.sub(r'http\\S{2,}', '', text)\n",
    "text = re.sub(r'\\\"{2,}', '\"', text)\n",
    "text"
   ]
  },
  {
   "cell_type": "code",
   "execution_count": 36,
   "id": "5f33357e-355e-4a22-a945-7ddec053d90a",
   "metadata": {},
   "outputs": [],
   "source": [
    "def clear_text(df):\n",
    "    remove_question = lambda text: re.sub(r'\\?{2,}', '', text)\n",
    "    df['MessageTextClean'] = df['MessageText'].apply(remove_question)\n",
    "    remove_space = lambda text: re.sub(r'\\s{2,}', ' ', text)\n",
    "    df['MessageTextClean'] = df['MessageTextClean'].apply(remove_space)\n",
    "    remove_at = lambda text: re.sub(r'\\@\\S{2,}', '', text)\n",
    "    df['MessageTextClean'] = df['MessageTextClean'].apply(remove_at)\n",
    "    remove_site = lambda text: re.sub(r'http\\S{2,}', '', text)\n",
    "    df['MessageTextClean'] = df['MessageTextClean'].apply(remove_site)\n",
    "    remove_quotation = lambda text: re.sub(r'\\\"{2,}', '\"', text)\n",
    "    df['MessageTextClean'] = df['MessageTextClean'].apply(remove_quotation)\n",
    "    remove_u200b = lambda text: re.sub(r'\\u200b', '', text)\n",
    "    df['MessageTextClean'] = df['MessageTextClean'].apply(remove_u200b)\n",
    "    return df"
   ]
  },
  {
   "cell_type": "code",
   "execution_count": 38,
   "id": "3c2c4ef0",
   "metadata": {},
   "outputs": [
    {
     "data": {
      "text/html": [
       "<div>\n",
       "<style scoped>\n",
       "    .dataframe tbody tr th:only-of-type {\n",
       "        vertical-align: middle;\n",
       "    }\n",
       "\n",
       "    .dataframe tbody tr th {\n",
       "        vertical-align: top;\n",
       "    }\n",
       "\n",
       "    .dataframe thead th {\n",
       "        text-align: right;\n",
       "    }\n",
       "</style>\n",
       "<table border=\"1\" class=\"dataframe\">\n",
       "  <thead>\n",
       "    <tr style=\"text-align: right;\">\n",
       "      <th></th>\n",
       "      <th>Unnamed: 0</th>\n",
       "      <th>ChannelID</th>\n",
       "      <th>messageid</th>\n",
       "      <th>issuerid</th>\n",
       "      <th>MessageID</th>\n",
       "      <th>DateAdded</th>\n",
       "      <th>DatePosted</th>\n",
       "      <th>MessageText</th>\n",
       "      <th>IsForward</th>\n",
       "    </tr>\n",
       "  </thead>\n",
       "  <tbody>\n",
       "    <tr>\n",
       "      <th>0</th>\n",
       "      <td>0</td>\n",
       "      <td>1197210433</td>\n",
       "      <td>5408</td>\n",
       "      <td>90</td>\n",
       "      <td>5408</td>\n",
       "      <td>2021-02-06 01:42:42</td>\n",
       "      <td>2020-04-29 07:29:01</td>\n",
       "      <td>?? Фокус недели #ФН  Сегодня ????? ММК опублик...</td>\n",
       "      <td>False</td>\n",
       "    </tr>\n",
       "    <tr>\n",
       "      <th>1</th>\n",
       "      <td>1</td>\n",
       "      <td>1203560567</td>\n",
       "      <td>64803</td>\n",
       "      <td>57</td>\n",
       "      <td>64803</td>\n",
       "      <td>2021-02-06 01:47:00</td>\n",
       "      <td>2020-01-21 12:51:42</td>\n",
       "      <td>??#LSRG  ЛСР - операционные результаты (2019г)...</td>\n",
       "      <td>False</td>\n",
       "    </tr>\n",
       "    <tr>\n",
       "      <th>2</th>\n",
       "      <td>2</td>\n",
       "      <td>1197210433</td>\n",
       "      <td>23389</td>\n",
       "      <td>152</td>\n",
       "      <td>23389</td>\n",
       "      <td>2021-07-21 13:46:31</td>\n",
       "      <td>2021-07-21 11:15:46</td>\n",
       "      <td>#CHMF Северсталь (CHMF) впервые поставила в Бр...</td>\n",
       "      <td>False</td>\n",
       "    </tr>\n",
       "    <tr>\n",
       "      <th>3</th>\n",
       "      <td>3</td>\n",
       "      <td>1066174394</td>\n",
       "      <td>677</td>\n",
       "      <td>112</td>\n",
       "      <td>677</td>\n",
       "      <td>2021-09-21 04:23:59</td>\n",
       "      <td>2016-12-16 10:00:04</td>\n",
       "      <td>\"Версия: Многоходовочка по Роснефти  Роснефтег...</td>\n",
       "      <td>False</td>\n",
       "    </tr>\n",
       "    <tr>\n",
       "      <th>4</th>\n",
       "      <td>4</td>\n",
       "      <td>1239405989</td>\n",
       "      <td>4486</td>\n",
       "      <td>115</td>\n",
       "      <td>4486</td>\n",
       "      <td>2023-01-20 15:02:22</td>\n",
       "      <td>2023-01-20 13:03:38</td>\n",
       "      <td>🟢 Новости к этому часу   ⚪️ФРС США необходимо ...</td>\n",
       "      <td>False</td>\n",
       "    </tr>\n",
       "    <tr>\n",
       "      <th>...</th>\n",
       "      <td>...</td>\n",
       "      <td>...</td>\n",
       "      <td>...</td>\n",
       "      <td>...</td>\n",
       "      <td>...</td>\n",
       "      <td>...</td>\n",
       "      <td>...</td>\n",
       "      <td>...</td>\n",
       "      <td>...</td>\n",
       "    </tr>\n",
       "    <tr>\n",
       "      <th>19350</th>\n",
       "      <td>19350</td>\n",
       "      <td>1326656811</td>\n",
       "      <td>1758</td>\n",
       "      <td>116</td>\n",
       "      <td>1758</td>\n",
       "      <td>2021-02-06 19:05:52</td>\n",
       "      <td>2019-07-10 20:01:05</td>\n",
       "      <td>\"#NLMK \"\"Новолипецкий металлургический комбина...</td>\n",
       "      <td>False</td>\n",
       "    </tr>\n",
       "    <tr>\n",
       "      <th>19351</th>\n",
       "      <td>19351</td>\n",
       "      <td>1075101206</td>\n",
       "      <td>6196</td>\n",
       "      <td>218</td>\n",
       "      <td>6196</td>\n",
       "      <td>2021-02-06 01:02:00</td>\n",
       "      <td>2020-10-15 10:48:10</td>\n",
       "      <td>?? За 2020 год на МосБирже может появиться 10 ...</td>\n",
       "      <td>False</td>\n",
       "    </tr>\n",
       "    <tr>\n",
       "      <th>19352</th>\n",
       "      <td>19352</td>\n",
       "      <td>1203560567</td>\n",
       "      <td>141069</td>\n",
       "      <td>227</td>\n",
       "      <td>141069</td>\n",
       "      <td>2021-06-15 14:30:24</td>\n",
       "      <td>2021-06-04 08:01:55</td>\n",
       "      <td>\"????#FIVE #ритейлеры #россия  СДЕЛКИ \"\"МАГНИТ...</td>\n",
       "      <td>False</td>\n",
       "    </tr>\n",
       "    <tr>\n",
       "      <th>19353</th>\n",
       "      <td>19353</td>\n",
       "      <td>1160971567</td>\n",
       "      <td>283</td>\n",
       "      <td>115</td>\n",
       "      <td>283</td>\n",
       "      <td>2021-09-21 04:33:17</td>\n",
       "      <td>2020-02-17 23:11:07</td>\n",
       "      <td>UPD: ТА Интер РАО UPD: ТА Новатэк</td>\n",
       "      <td>False</td>\n",
       "    </tr>\n",
       "    <tr>\n",
       "      <th>19354</th>\n",
       "      <td>19354</td>\n",
       "      <td>1203560567</td>\n",
       "      <td>276916</td>\n",
       "      <td>88</td>\n",
       "      <td>276916</td>\n",
       "      <td>2024-02-29 20:24:21</td>\n",
       "      <td>2024-02-29 14:48:56</td>\n",
       "      <td>🇷🇺#MVID #отчетность  12 марта - М.Видео - МСФО...</td>\n",
       "      <td>False</td>\n",
       "    </tr>\n",
       "  </tbody>\n",
       "</table>\n",
       "<p>19355 rows × 9 columns</p>\n",
       "</div>"
      ],
      "text/plain": [
       "       Unnamed: 0   ChannelID  messageid  issuerid  MessageID  \\\n",
       "0               0  1197210433       5408        90       5408   \n",
       "1               1  1203560567      64803        57      64803   \n",
       "2               2  1197210433      23389       152      23389   \n",
       "3               3  1066174394        677       112        677   \n",
       "4               4  1239405989       4486       115       4486   \n",
       "...           ...         ...        ...       ...        ...   \n",
       "19350       19350  1326656811       1758       116       1758   \n",
       "19351       19351  1075101206       6196       218       6196   \n",
       "19352       19352  1203560567     141069       227     141069   \n",
       "19353       19353  1160971567        283       115        283   \n",
       "19354       19354  1203560567     276916        88     276916   \n",
       "\n",
       "                 DateAdded           DatePosted  \\\n",
       "0      2021-02-06 01:42:42  2020-04-29 07:29:01   \n",
       "1      2021-02-06 01:47:00  2020-01-21 12:51:42   \n",
       "2      2021-07-21 13:46:31  2021-07-21 11:15:46   \n",
       "3      2021-09-21 04:23:59  2016-12-16 10:00:04   \n",
       "4      2023-01-20 15:02:22  2023-01-20 13:03:38   \n",
       "...                    ...                  ...   \n",
       "19350  2021-02-06 19:05:52  2019-07-10 20:01:05   \n",
       "19351  2021-02-06 01:02:00  2020-10-15 10:48:10   \n",
       "19352  2021-06-15 14:30:24  2021-06-04 08:01:55   \n",
       "19353  2021-09-21 04:33:17  2020-02-17 23:11:07   \n",
       "19354  2024-02-29 20:24:21  2024-02-29 14:48:56   \n",
       "\n",
       "                                             MessageText  IsForward  \n",
       "0      ?? Фокус недели #ФН  Сегодня ????? ММК опублик...      False  \n",
       "1      ??#LSRG  ЛСР - операционные результаты (2019г)...      False  \n",
       "2      #CHMF Северсталь (CHMF) впервые поставила в Бр...      False  \n",
       "3      \"Версия: Многоходовочка по Роснефти  Роснефтег...      False  \n",
       "4      🟢 Новости к этому часу   ⚪️ФРС США необходимо ...      False  \n",
       "...                                                  ...        ...  \n",
       "19350  \"#NLMK \"\"Новолипецкий металлургический комбина...      False  \n",
       "19351  ?? За 2020 год на МосБирже может появиться 10 ...      False  \n",
       "19352  \"????#FIVE #ритейлеры #россия  СДЕЛКИ \"\"МАГНИТ...      False  \n",
       "19353                  UPD: ТА Интер РАО UPD: ТА Новатэк      False  \n",
       "19354  🇷🇺#MVID #отчетность  12 марта - М.Видео - МСФО...      False  \n",
       "\n",
       "[19355 rows x 9 columns]"
      ]
     },
     "execution_count": 38,
     "metadata": {},
     "output_type": "execute_result"
    }
   ],
   "source": [
    "names_texts"
   ]
  },
  {
   "cell_type": "code",
   "execution_count": 39,
   "id": "8d3f0977",
   "metadata": {},
   "outputs": [
    {
     "name": "stdout",
     "output_type": "stream",
     "text": [
      "<class 'pandas.core.frame.DataFrame'>\n",
      "RangeIndex: 19355 entries, 0 to 19354\n",
      "Data columns (total 9 columns):\n",
      " #   Column       Non-Null Count  Dtype \n",
      "---  ------       --------------  ----- \n",
      " 0   Unnamed: 0   19355 non-null  int64 \n",
      " 1   ChannelID    19355 non-null  int64 \n",
      " 2   messageid    19355 non-null  int64 \n",
      " 3   issuerid     19355 non-null  int64 \n",
      " 4   MessageID    19355 non-null  int64 \n",
      " 5   DateAdded    19355 non-null  object\n",
      " 6   DatePosted   19355 non-null  object\n",
      " 7   MessageText  19354 non-null  object\n",
      " 8   IsForward    19355 non-null  bool  \n",
      "dtypes: bool(1), int64(5), object(3)\n",
      "memory usage: 1.2+ MB\n"
     ]
    }
   ],
   "source": [
    "names_texts.info()"
   ]
  },
  {
   "cell_type": "code",
   "execution_count": 40,
   "id": "5b83a831-74cb-4f22-8afb-90ec1dce256f",
   "metadata": {},
   "outputs": [
    {
     "ename": "TypeError",
     "evalue": "expected string or bytes-like object, got 'float'",
     "output_type": "error",
     "traceback": [
      "\u001b[1;31m---------------------------------------------------------------------------\u001b[0m",
      "\u001b[1;31mTypeError\u001b[0m                                 Traceback (most recent call last)",
      "File \u001b[1;32m<timed exec>:1\u001b[0m\n",
      "Cell \u001b[1;32mIn[36], line 3\u001b[0m, in \u001b[0;36mclear_text\u001b[1;34m(df)\u001b[0m\n\u001b[0;32m      1\u001b[0m \u001b[38;5;28;01mdef\u001b[39;00m \u001b[38;5;21mclear_text\u001b[39m(df):\n\u001b[0;32m      2\u001b[0m     remove_question \u001b[38;5;241m=\u001b[39m \u001b[38;5;28;01mlambda\u001b[39;00m text: re\u001b[38;5;241m.\u001b[39msub(\u001b[38;5;124mr\u001b[39m\u001b[38;5;124m'\u001b[39m\u001b[38;5;124m\\\u001b[39m\u001b[38;5;124m?\u001b[39m\u001b[38;5;124m{\u001b[39m\u001b[38;5;124m2,}\u001b[39m\u001b[38;5;124m'\u001b[39m, \u001b[38;5;124m'\u001b[39m\u001b[38;5;124m'\u001b[39m, text)\n\u001b[1;32m----> 3\u001b[0m     df[\u001b[38;5;124m'\u001b[39m\u001b[38;5;124mMessageTextClean\u001b[39m\u001b[38;5;124m'\u001b[39m] \u001b[38;5;241m=\u001b[39m \u001b[43mdf\u001b[49m\u001b[43m[\u001b[49m\u001b[38;5;124;43m'\u001b[39;49m\u001b[38;5;124;43mMessageText\u001b[39;49m\u001b[38;5;124;43m'\u001b[39;49m\u001b[43m]\u001b[49m\u001b[38;5;241;43m.\u001b[39;49m\u001b[43mapply\u001b[49m\u001b[43m(\u001b[49m\u001b[43mremove_question\u001b[49m\u001b[43m)\u001b[49m\n\u001b[0;32m      4\u001b[0m     remove_space \u001b[38;5;241m=\u001b[39m \u001b[38;5;28;01mlambda\u001b[39;00m text: re\u001b[38;5;241m.\u001b[39msub(\u001b[38;5;124mr\u001b[39m\u001b[38;5;124m'\u001b[39m\u001b[38;5;124m\\\u001b[39m\u001b[38;5;124ms\u001b[39m\u001b[38;5;124m{\u001b[39m\u001b[38;5;124m2,}\u001b[39m\u001b[38;5;124m'\u001b[39m, \u001b[38;5;124m'\u001b[39m\u001b[38;5;124m \u001b[39m\u001b[38;5;124m'\u001b[39m, text)\n\u001b[0;32m      5\u001b[0m     df[\u001b[38;5;124m'\u001b[39m\u001b[38;5;124mMessageTextClean\u001b[39m\u001b[38;5;124m'\u001b[39m] \u001b[38;5;241m=\u001b[39m df[\u001b[38;5;124m'\u001b[39m\u001b[38;5;124mMessageTextClean\u001b[39m\u001b[38;5;124m'\u001b[39m]\u001b[38;5;241m.\u001b[39mapply(remove_space)\n",
      "File \u001b[1;32m~\\AppData\\Local\\Packages\\PythonSoftwareFoundation.Python.3.12_qbz5n2kfra8p0\\LocalCache\\local-packages\\Python312\\site-packages\\pandas\\core\\series.py:4924\u001b[0m, in \u001b[0;36mSeries.apply\u001b[1;34m(self, func, convert_dtype, args, by_row, **kwargs)\u001b[0m\n\u001b[0;32m   4789\u001b[0m \u001b[38;5;28;01mdef\u001b[39;00m \u001b[38;5;21mapply\u001b[39m(\n\u001b[0;32m   4790\u001b[0m     \u001b[38;5;28mself\u001b[39m,\n\u001b[0;32m   4791\u001b[0m     func: AggFuncType,\n\u001b[1;32m   (...)\u001b[0m\n\u001b[0;32m   4796\u001b[0m     \u001b[38;5;241m*\u001b[39m\u001b[38;5;241m*\u001b[39mkwargs,\n\u001b[0;32m   4797\u001b[0m ) \u001b[38;5;241m-\u001b[39m\u001b[38;5;241m>\u001b[39m DataFrame \u001b[38;5;241m|\u001b[39m Series:\n\u001b[0;32m   4798\u001b[0m \u001b[38;5;250m    \u001b[39m\u001b[38;5;124;03m\"\"\"\u001b[39;00m\n\u001b[0;32m   4799\u001b[0m \u001b[38;5;124;03m    Invoke function on values of Series.\u001b[39;00m\n\u001b[0;32m   4800\u001b[0m \n\u001b[1;32m   (...)\u001b[0m\n\u001b[0;32m   4915\u001b[0m \u001b[38;5;124;03m    dtype: float64\u001b[39;00m\n\u001b[0;32m   4916\u001b[0m \u001b[38;5;124;03m    \"\"\"\u001b[39;00m\n\u001b[0;32m   4917\u001b[0m     \u001b[38;5;28;01mreturn\u001b[39;00m \u001b[43mSeriesApply\u001b[49m\u001b[43m(\u001b[49m\n\u001b[0;32m   4918\u001b[0m \u001b[43m        \u001b[49m\u001b[38;5;28;43mself\u001b[39;49m\u001b[43m,\u001b[49m\n\u001b[0;32m   4919\u001b[0m \u001b[43m        \u001b[49m\u001b[43mfunc\u001b[49m\u001b[43m,\u001b[49m\n\u001b[0;32m   4920\u001b[0m \u001b[43m        \u001b[49m\u001b[43mconvert_dtype\u001b[49m\u001b[38;5;241;43m=\u001b[39;49m\u001b[43mconvert_dtype\u001b[49m\u001b[43m,\u001b[49m\n\u001b[0;32m   4921\u001b[0m \u001b[43m        \u001b[49m\u001b[43mby_row\u001b[49m\u001b[38;5;241;43m=\u001b[39;49m\u001b[43mby_row\u001b[49m\u001b[43m,\u001b[49m\n\u001b[0;32m   4922\u001b[0m \u001b[43m        \u001b[49m\u001b[43margs\u001b[49m\u001b[38;5;241;43m=\u001b[39;49m\u001b[43margs\u001b[49m\u001b[43m,\u001b[49m\n\u001b[0;32m   4923\u001b[0m \u001b[43m        \u001b[49m\u001b[43mkwargs\u001b[49m\u001b[38;5;241;43m=\u001b[39;49m\u001b[43mkwargs\u001b[49m\u001b[43m,\u001b[49m\n\u001b[1;32m-> 4924\u001b[0m \u001b[43m    \u001b[49m\u001b[43m)\u001b[49m\u001b[38;5;241;43m.\u001b[39;49m\u001b[43mapply\u001b[49m\u001b[43m(\u001b[49m\u001b[43m)\u001b[49m\n",
      "File \u001b[1;32m~\\AppData\\Local\\Packages\\PythonSoftwareFoundation.Python.3.12_qbz5n2kfra8p0\\LocalCache\\local-packages\\Python312\\site-packages\\pandas\\core\\apply.py:1427\u001b[0m, in \u001b[0;36mSeriesApply.apply\u001b[1;34m(self)\u001b[0m\n\u001b[0;32m   1424\u001b[0m     \u001b[38;5;28;01mreturn\u001b[39;00m \u001b[38;5;28mself\u001b[39m\u001b[38;5;241m.\u001b[39mapply_compat()\n\u001b[0;32m   1426\u001b[0m \u001b[38;5;66;03m# self.func is Callable\u001b[39;00m\n\u001b[1;32m-> 1427\u001b[0m \u001b[38;5;28;01mreturn\u001b[39;00m \u001b[38;5;28;43mself\u001b[39;49m\u001b[38;5;241;43m.\u001b[39;49m\u001b[43mapply_standard\u001b[49m\u001b[43m(\u001b[49m\u001b[43m)\u001b[49m\n",
      "File \u001b[1;32m~\\AppData\\Local\\Packages\\PythonSoftwareFoundation.Python.3.12_qbz5n2kfra8p0\\LocalCache\\local-packages\\Python312\\site-packages\\pandas\\core\\apply.py:1507\u001b[0m, in \u001b[0;36mSeriesApply.apply_standard\u001b[1;34m(self)\u001b[0m\n\u001b[0;32m   1501\u001b[0m \u001b[38;5;66;03m# row-wise access\u001b[39;00m\n\u001b[0;32m   1502\u001b[0m \u001b[38;5;66;03m# apply doesn't have a `na_action` keyword and for backward compat reasons\u001b[39;00m\n\u001b[0;32m   1503\u001b[0m \u001b[38;5;66;03m# we need to give `na_action=\"ignore\"` for categorical data.\u001b[39;00m\n\u001b[0;32m   1504\u001b[0m \u001b[38;5;66;03m# TODO: remove the `na_action=\"ignore\"` when that default has been changed in\u001b[39;00m\n\u001b[0;32m   1505\u001b[0m \u001b[38;5;66;03m#  Categorical (GH51645).\u001b[39;00m\n\u001b[0;32m   1506\u001b[0m action \u001b[38;5;241m=\u001b[39m \u001b[38;5;124m\"\u001b[39m\u001b[38;5;124mignore\u001b[39m\u001b[38;5;124m\"\u001b[39m \u001b[38;5;28;01mif\u001b[39;00m \u001b[38;5;28misinstance\u001b[39m(obj\u001b[38;5;241m.\u001b[39mdtype, CategoricalDtype) \u001b[38;5;28;01melse\u001b[39;00m \u001b[38;5;28;01mNone\u001b[39;00m\n\u001b[1;32m-> 1507\u001b[0m mapped \u001b[38;5;241m=\u001b[39m \u001b[43mobj\u001b[49m\u001b[38;5;241;43m.\u001b[39;49m\u001b[43m_map_values\u001b[49m\u001b[43m(\u001b[49m\n\u001b[0;32m   1508\u001b[0m \u001b[43m    \u001b[49m\u001b[43mmapper\u001b[49m\u001b[38;5;241;43m=\u001b[39;49m\u001b[43mcurried\u001b[49m\u001b[43m,\u001b[49m\u001b[43m \u001b[49m\u001b[43mna_action\u001b[49m\u001b[38;5;241;43m=\u001b[39;49m\u001b[43maction\u001b[49m\u001b[43m,\u001b[49m\u001b[43m \u001b[49m\u001b[43mconvert\u001b[49m\u001b[38;5;241;43m=\u001b[39;49m\u001b[38;5;28;43mself\u001b[39;49m\u001b[38;5;241;43m.\u001b[39;49m\u001b[43mconvert_dtype\u001b[49m\n\u001b[0;32m   1509\u001b[0m \u001b[43m\u001b[49m\u001b[43m)\u001b[49m\n\u001b[0;32m   1511\u001b[0m \u001b[38;5;28;01mif\u001b[39;00m \u001b[38;5;28mlen\u001b[39m(mapped) \u001b[38;5;129;01mand\u001b[39;00m \u001b[38;5;28misinstance\u001b[39m(mapped[\u001b[38;5;241m0\u001b[39m], ABCSeries):\n\u001b[0;32m   1512\u001b[0m     \u001b[38;5;66;03m# GH#43986 Need to do list(mapped) in order to get treated as nested\u001b[39;00m\n\u001b[0;32m   1513\u001b[0m     \u001b[38;5;66;03m#  See also GH#25959 regarding EA support\u001b[39;00m\n\u001b[0;32m   1514\u001b[0m     \u001b[38;5;28;01mreturn\u001b[39;00m obj\u001b[38;5;241m.\u001b[39m_constructor_expanddim(\u001b[38;5;28mlist\u001b[39m(mapped), index\u001b[38;5;241m=\u001b[39mobj\u001b[38;5;241m.\u001b[39mindex)\n",
      "File \u001b[1;32m~\\AppData\\Local\\Packages\\PythonSoftwareFoundation.Python.3.12_qbz5n2kfra8p0\\LocalCache\\local-packages\\Python312\\site-packages\\pandas\\core\\base.py:921\u001b[0m, in \u001b[0;36mIndexOpsMixin._map_values\u001b[1;34m(self, mapper, na_action, convert)\u001b[0m\n\u001b[0;32m    918\u001b[0m \u001b[38;5;28;01mif\u001b[39;00m \u001b[38;5;28misinstance\u001b[39m(arr, ExtensionArray):\n\u001b[0;32m    919\u001b[0m     \u001b[38;5;28;01mreturn\u001b[39;00m arr\u001b[38;5;241m.\u001b[39mmap(mapper, na_action\u001b[38;5;241m=\u001b[39mna_action)\n\u001b[1;32m--> 921\u001b[0m \u001b[38;5;28;01mreturn\u001b[39;00m \u001b[43malgorithms\u001b[49m\u001b[38;5;241;43m.\u001b[39;49m\u001b[43mmap_array\u001b[49m\u001b[43m(\u001b[49m\u001b[43marr\u001b[49m\u001b[43m,\u001b[49m\u001b[43m \u001b[49m\u001b[43mmapper\u001b[49m\u001b[43m,\u001b[49m\u001b[43m \u001b[49m\u001b[43mna_action\u001b[49m\u001b[38;5;241;43m=\u001b[39;49m\u001b[43mna_action\u001b[49m\u001b[43m,\u001b[49m\u001b[43m \u001b[49m\u001b[43mconvert\u001b[49m\u001b[38;5;241;43m=\u001b[39;49m\u001b[43mconvert\u001b[49m\u001b[43m)\u001b[49m\n",
      "File \u001b[1;32m~\\AppData\\Local\\Packages\\PythonSoftwareFoundation.Python.3.12_qbz5n2kfra8p0\\LocalCache\\local-packages\\Python312\\site-packages\\pandas\\core\\algorithms.py:1743\u001b[0m, in \u001b[0;36mmap_array\u001b[1;34m(arr, mapper, na_action, convert)\u001b[0m\n\u001b[0;32m   1741\u001b[0m values \u001b[38;5;241m=\u001b[39m arr\u001b[38;5;241m.\u001b[39mastype(\u001b[38;5;28mobject\u001b[39m, copy\u001b[38;5;241m=\u001b[39m\u001b[38;5;28;01mFalse\u001b[39;00m)\n\u001b[0;32m   1742\u001b[0m \u001b[38;5;28;01mif\u001b[39;00m na_action \u001b[38;5;129;01mis\u001b[39;00m \u001b[38;5;28;01mNone\u001b[39;00m:\n\u001b[1;32m-> 1743\u001b[0m     \u001b[38;5;28;01mreturn\u001b[39;00m \u001b[43mlib\u001b[49m\u001b[38;5;241;43m.\u001b[39;49m\u001b[43mmap_infer\u001b[49m\u001b[43m(\u001b[49m\u001b[43mvalues\u001b[49m\u001b[43m,\u001b[49m\u001b[43m \u001b[49m\u001b[43mmapper\u001b[49m\u001b[43m,\u001b[49m\u001b[43m \u001b[49m\u001b[43mconvert\u001b[49m\u001b[38;5;241;43m=\u001b[39;49m\u001b[43mconvert\u001b[49m\u001b[43m)\u001b[49m\n\u001b[0;32m   1744\u001b[0m \u001b[38;5;28;01melse\u001b[39;00m:\n\u001b[0;32m   1745\u001b[0m     \u001b[38;5;28;01mreturn\u001b[39;00m lib\u001b[38;5;241m.\u001b[39mmap_infer_mask(\n\u001b[0;32m   1746\u001b[0m         values, mapper, mask\u001b[38;5;241m=\u001b[39misna(values)\u001b[38;5;241m.\u001b[39mview(np\u001b[38;5;241m.\u001b[39muint8), convert\u001b[38;5;241m=\u001b[39mconvert\n\u001b[0;32m   1747\u001b[0m     )\n",
      "File \u001b[1;32mlib.pyx:2972\u001b[0m, in \u001b[0;36mpandas._libs.lib.map_infer\u001b[1;34m()\u001b[0m\n",
      "Cell \u001b[1;32mIn[36], line 2\u001b[0m, in \u001b[0;36mclear_text.<locals>.<lambda>\u001b[1;34m(text)\u001b[0m\n\u001b[0;32m      1\u001b[0m \u001b[38;5;28;01mdef\u001b[39;00m \u001b[38;5;21mclear_text\u001b[39m(df):\n\u001b[1;32m----> 2\u001b[0m     remove_question \u001b[38;5;241m=\u001b[39m \u001b[38;5;28;01mlambda\u001b[39;00m text: \u001b[43mre\u001b[49m\u001b[38;5;241;43m.\u001b[39;49m\u001b[43msub\u001b[49m\u001b[43m(\u001b[49m\u001b[38;5;124;43mr\u001b[39;49m\u001b[38;5;124;43m'\u001b[39;49m\u001b[38;5;124;43m\\\u001b[39;49m\u001b[38;5;124;43m?\u001b[39;49m\u001b[38;5;124;43m{\u001b[39;49m\u001b[38;5;124;43m2,}\u001b[39;49m\u001b[38;5;124;43m'\u001b[39;49m\u001b[43m,\u001b[49m\u001b[43m \u001b[49m\u001b[38;5;124;43m'\u001b[39;49m\u001b[38;5;124;43m'\u001b[39;49m\u001b[43m,\u001b[49m\u001b[43m \u001b[49m\u001b[43mtext\u001b[49m\u001b[43m)\u001b[49m\n\u001b[0;32m      3\u001b[0m     df[\u001b[38;5;124m'\u001b[39m\u001b[38;5;124mMessageTextClean\u001b[39m\u001b[38;5;124m'\u001b[39m] \u001b[38;5;241m=\u001b[39m df[\u001b[38;5;124m'\u001b[39m\u001b[38;5;124mMessageText\u001b[39m\u001b[38;5;124m'\u001b[39m]\u001b[38;5;241m.\u001b[39mapply(remove_question)\n\u001b[0;32m      4\u001b[0m     remove_space \u001b[38;5;241m=\u001b[39m \u001b[38;5;28;01mlambda\u001b[39;00m text: re\u001b[38;5;241m.\u001b[39msub(\u001b[38;5;124mr\u001b[39m\u001b[38;5;124m'\u001b[39m\u001b[38;5;124m\\\u001b[39m\u001b[38;5;124ms\u001b[39m\u001b[38;5;124m{\u001b[39m\u001b[38;5;124m2,}\u001b[39m\u001b[38;5;124m'\u001b[39m, \u001b[38;5;124m'\u001b[39m\u001b[38;5;124m \u001b[39m\u001b[38;5;124m'\u001b[39m, text)\n",
      "File \u001b[1;32mC:\\Program Files\\WindowsApps\\PythonSoftwareFoundation.Python.3.12_3.12.1008.0_x64__qbz5n2kfra8p0\\Lib\\re\\__init__.py:186\u001b[0m, in \u001b[0;36msub\u001b[1;34m(pattern, repl, string, count, flags)\u001b[0m\n\u001b[0;32m    179\u001b[0m \u001b[38;5;28;01mdef\u001b[39;00m \u001b[38;5;21msub\u001b[39m(pattern, repl, string, count\u001b[38;5;241m=\u001b[39m\u001b[38;5;241m0\u001b[39m, flags\u001b[38;5;241m=\u001b[39m\u001b[38;5;241m0\u001b[39m):\n\u001b[0;32m    180\u001b[0m \u001b[38;5;250m    \u001b[39m\u001b[38;5;124;03m\"\"\"Return the string obtained by replacing the leftmost\u001b[39;00m\n\u001b[0;32m    181\u001b[0m \u001b[38;5;124;03m    non-overlapping occurrences of the pattern in string by the\u001b[39;00m\n\u001b[0;32m    182\u001b[0m \u001b[38;5;124;03m    replacement repl.  repl can be either a string or a callable;\u001b[39;00m\n\u001b[0;32m    183\u001b[0m \u001b[38;5;124;03m    if a string, backslash escapes in it are processed.  If it is\u001b[39;00m\n\u001b[0;32m    184\u001b[0m \u001b[38;5;124;03m    a callable, it's passed the Match object and must return\u001b[39;00m\n\u001b[0;32m    185\u001b[0m \u001b[38;5;124;03m    a replacement string to be used.\"\"\"\u001b[39;00m\n\u001b[1;32m--> 186\u001b[0m     \u001b[38;5;28;01mreturn\u001b[39;00m \u001b[43m_compile\u001b[49m\u001b[43m(\u001b[49m\u001b[43mpattern\u001b[49m\u001b[43m,\u001b[49m\u001b[43m \u001b[49m\u001b[43mflags\u001b[49m\u001b[43m)\u001b[49m\u001b[38;5;241;43m.\u001b[39;49m\u001b[43msub\u001b[49m\u001b[43m(\u001b[49m\u001b[43mrepl\u001b[49m\u001b[43m,\u001b[49m\u001b[43m \u001b[49m\u001b[43mstring\u001b[49m\u001b[43m,\u001b[49m\u001b[43m \u001b[49m\u001b[43mcount\u001b[49m\u001b[43m)\u001b[49m\n",
      "\u001b[1;31mTypeError\u001b[0m: expected string or bytes-like object, got 'float'"
     ]
    }
   ],
   "source": [
    "%%time\n",
    "names_texts = clear_text(names_texts)\n",
    "sent_texts = clear_text(sent_texts)"
   ]
  },
  {
   "cell_type": "code",
   "execution_count": 273,
   "id": "5552dc87-5059-4fcd-a707-02f579472c84",
   "metadata": {},
   "outputs": [
    {
     "data": {
      "text/html": [
       "<div>\n",
       "<style scoped>\n",
       "    .dataframe tbody tr th:only-of-type {\n",
       "        vertical-align: middle;\n",
       "    }\n",
       "\n",
       "    .dataframe tbody tr th {\n",
       "        vertical-align: top;\n",
       "    }\n",
       "\n",
       "    .dataframe thead th {\n",
       "        text-align: right;\n",
       "    }\n",
       "</style>\n",
       "<table border=\"1\" class=\"dataframe\">\n",
       "  <thead>\n",
       "    <tr style=\"text-align: right;\">\n",
       "      <th></th>\n",
       "      <th>ChannelID</th>\n",
       "      <th>messageid</th>\n",
       "      <th>issuerid</th>\n",
       "      <th>MessageID</th>\n",
       "      <th>DateAdded</th>\n",
       "      <th>DatePosted</th>\n",
       "      <th>MessageText</th>\n",
       "      <th>IsForward</th>\n",
       "      <th>MessageTextClean</th>\n",
       "    </tr>\n",
       "  </thead>\n",
       "  <tbody>\n",
       "    <tr>\n",
       "      <th>0</th>\n",
       "      <td>1197210433</td>\n",
       "      <td>5408</td>\n",
       "      <td>90</td>\n",
       "      <td>5408</td>\n",
       "      <td>2021-02-06 01:42:42</td>\n",
       "      <td>2020-04-29 07:29:01</td>\n",
       "      <td>?? Фокус недели #ФН  Сегодня ????? ММК опублик...</td>\n",
       "      <td>False</td>\n",
       "      <td>Фокус недели #ФН Сегодня ММК опубликует финан...</td>\n",
       "    </tr>\n",
       "    <tr>\n",
       "      <th>1</th>\n",
       "      <td>1203560567</td>\n",
       "      <td>64803</td>\n",
       "      <td>57</td>\n",
       "      <td>64803</td>\n",
       "      <td>2021-02-06 01:47:00</td>\n",
       "      <td>2020-01-21 12:51:42</td>\n",
       "      <td>??#LSRG  ЛСР - операционные результаты (2019г)...</td>\n",
       "      <td>False</td>\n",
       "      <td>#LSRG ЛСР - операционные результаты (2019г) *п...</td>\n",
       "    </tr>\n",
       "  </tbody>\n",
       "</table>\n",
       "</div>"
      ],
      "text/plain": [
       "    ChannelID  messageid  issuerid  MessageID           DateAdded  \\\n",
       "0  1197210433       5408        90       5408 2021-02-06 01:42:42   \n",
       "1  1203560567      64803        57      64803 2021-02-06 01:47:00   \n",
       "\n",
       "           DatePosted                                        MessageText  \\\n",
       "0 2020-04-29 07:29:01  ?? Фокус недели #ФН  Сегодня ????? ММК опублик...   \n",
       "1 2020-01-21 12:51:42  ??#LSRG  ЛСР - операционные результаты (2019г)...   \n",
       "\n",
       "   IsForward                                   MessageTextClean  \n",
       "0      False   Фокус недели #ФН Сегодня ММК опубликует финан...  \n",
       "1      False  #LSRG ЛСР - операционные результаты (2019г) *п...  "
      ]
     },
     "execution_count": 273,
     "metadata": {},
     "output_type": "execute_result"
    }
   ],
   "source": [
    "names_texts.head(2)"
   ]
  },
  {
   "cell_type": "code",
   "execution_count": 366,
   "id": "f9f5d682-b2fa-4dd0-ba58-e84677ffd00c",
   "metadata": {},
   "outputs": [
    {
     "data": {
      "text/plain": [
       "255"
      ]
     },
     "execution_count": 366,
     "metadata": {},
     "output_type": "execute_result"
    }
   ],
   "source": [
    "issuers['issuerid'].nunique()"
   ]
  },
  {
   "cell_type": "code",
   "execution_count": 367,
   "id": "5ec79c27-6c21-42a9-9778-a265f885849e",
   "metadata": {},
   "outputs": [
    {
     "data": {
      "text/plain": [
       "255"
      ]
     },
     "execution_count": 367,
     "metadata": {},
     "output_type": "execute_result"
    }
   ],
   "source": [
    "syn['issuerid'].nunique()"
   ]
  },
  {
   "cell_type": "code",
   "execution_count": 30,
   "id": "70ac2941-21ba-478e-a40d-582edd3d3faa",
   "metadata": {},
   "outputs": [
    {
     "data": {
      "text/html": [
       "<div>\n",
       "<style scoped>\n",
       "    .dataframe tbody tr th:only-of-type {\n",
       "        vertical-align: middle;\n",
       "    }\n",
       "\n",
       "    .dataframe tbody tr th {\n",
       "        vertical-align: top;\n",
       "    }\n",
       "\n",
       "    .dataframe thead th {\n",
       "        text-align: right;\n",
       "    }\n",
       "</style>\n",
       "<table border=\"1\" class=\"dataframe\">\n",
       "  <thead>\n",
       "    <tr style=\"text-align: right;\">\n",
       "      <th></th>\n",
       "      <th>Unnamed: 0</th>\n",
       "      <th>issuerid</th>\n",
       "      <th>EMITENT_FULL_NAME</th>\n",
       "      <th>datetrackstart</th>\n",
       "      <th>datetrackend</th>\n",
       "      <th>BGTicker</th>\n",
       "      <th>OtherTicker</th>\n",
       "      <th>VeryOddCompany</th>\n",
       "      <th>BGTicker.1</th>\n",
       "      <th>Unnamed: 5</th>\n",
       "      <th>Unnamed: 6</th>\n",
       "      <th>Unnamed: 7</th>\n",
       "      <th>Unnamed: 8</th>\n",
       "      <th>Unnamed: 9</th>\n",
       "      <th>Unnamed: 10</th>\n",
       "      <th>Unnamed: 11</th>\n",
       "      <th>Unnamed: 12</th>\n",
       "      <th>Unnamed: 13</th>\n",
       "      <th>Unnamed: 14</th>\n",
       "    </tr>\n",
       "  </thead>\n",
       "  <tbody>\n",
       "    <tr>\n",
       "      <th>0</th>\n",
       "      <td>0</td>\n",
       "      <td>1</td>\n",
       "      <td>\"Акционерный коммерческий банк \"Держава\" публи...</td>\n",
       "      <td>2021-06-02 12:47:55.100</td>\n",
       "      <td>NaN</td>\n",
       "      <td>NaN</td>\n",
       "      <td>NaN</td>\n",
       "      <td>NaN</td>\n",
       "      <td>DERZP</td>\n",
       "      <td>Держава</td>\n",
       "      <td>DERZHAVA</td>\n",
       "      <td>DERZ</td>\n",
       "      <td>NaN</td>\n",
       "      <td>NaN</td>\n",
       "      <td>NaN</td>\n",
       "      <td>NaN</td>\n",
       "      <td>NaN</td>\n",
       "      <td>NaN</td>\n",
       "      <td>NaN</td>\n",
       "    </tr>\n",
       "    <tr>\n",
       "      <th>1</th>\n",
       "      <td>1</td>\n",
       "      <td>2</td>\n",
       "      <td>\"МОСКОВСКИЙ КРЕДИТНЫЙ БАНК\" (публичное акционе...</td>\n",
       "      <td>2021-06-02 12:47:55.100</td>\n",
       "      <td>NaN</td>\n",
       "      <td>CBOM RX</td>\n",
       "      <td>NaN</td>\n",
       "      <td>NaN</td>\n",
       "      <td>NaN</td>\n",
       "      <td>Московский кредитный банк</td>\n",
       "      <td>мкб</td>\n",
       "      <td>Credit Bank of Moscow</td>\n",
       "      <td>Credit Bank</td>\n",
       "      <td>NaN</td>\n",
       "      <td>NaN</td>\n",
       "      <td>NaN</td>\n",
       "      <td>NaN</td>\n",
       "      <td>NaN</td>\n",
       "      <td>NaN</td>\n",
       "    </tr>\n",
       "  </tbody>\n",
       "</table>\n",
       "</div>"
      ],
      "text/plain": [
       "   Unnamed: 0  issuerid                                  EMITENT_FULL_NAME  \\\n",
       "0           0         1  \"Акционерный коммерческий банк \"Держава\" публи...   \n",
       "1           1         2  \"МОСКОВСКИЙ КРЕДИТНЫЙ БАНК\" (публичное акционе...   \n",
       "\n",
       "            datetrackstart  datetrackend BGTicker OtherTicker  VeryOddCompany  \\\n",
       "0  2021-06-02 12:47:55.100           NaN      NaN         NaN             NaN   \n",
       "1  2021-06-02 12:47:55.100           NaN  CBOM RX         NaN             NaN   \n",
       "\n",
       "  BGTicker.1                 Unnamed: 5 Unnamed: 6             Unnamed: 7  \\\n",
       "0      DERZP                    Держава   DERZHAVA                   DERZ   \n",
       "1        NaN  Московский кредитный банк        мкб  Credit Bank of Moscow   \n",
       "\n",
       "    Unnamed: 8 Unnamed: 9 Unnamed: 10 Unnamed: 11 Unnamed: 12 Unnamed: 13  \\\n",
       "0          NaN        NaN         NaN         NaN         NaN         NaN   \n",
       "1  Credit Bank        NaN         NaN         NaN         NaN         NaN   \n",
       "\n",
       "  Unnamed: 14  \n",
       "0         NaN  \n",
       "1         NaN  "
      ]
     },
     "execution_count": 30,
     "metadata": {},
     "output_type": "execute_result"
    }
   ],
   "source": [
    "names = issuers.merge(syn.drop(['EMITENT_FULL_NAME', 'BGTicker'], axis=1), on='issuerid', how='inner')\n",
    "names.head(2)"
   ]
  },
  {
   "cell_type": "code",
   "execution_count": 32,
   "id": "6c1a6c5c-3f67-4732-baaf-eac58ad99a4a",
   "metadata": {},
   "outputs": [
    {
     "data": {
      "text/plain": [
       "['EMITENT_FULL_NAME',\n",
       " 'BGTicker',\n",
       " 'OtherTicker',\n",
       " 'BGTicker.1',\n",
       " 'Unnamed: 5',\n",
       " 'Unnamed: 6',\n",
       " 'Unnamed: 7',\n",
       " 'Unnamed: 8',\n",
       " 'Unnamed: 9',\n",
       " 'Unnamed: 10',\n",
       " 'Unnamed: 11',\n",
       " 'Unnamed: 12',\n",
       " 'Unnamed: 13',\n",
       " 'Unnamed: 14']"
      ]
     },
     "execution_count": 32,
     "metadata": {},
     "output_type": "execute_result"
    }
   ],
   "source": [
    "l_syns = ['EMITENT_FULL_NAME', 'BGTicker', 'OtherTicker', 'BGTicker.1']\n",
    "for i in range(5, 15):\n",
    "    l_syns.append('Unnamed: '+str(i))\n",
    "l_syns"
   ]
  },
  {
   "cell_type": "code",
   "execution_count": 110,
   "id": "ec8e5010-1012-4f5a-8982-15bd80d513ee",
   "metadata": {},
   "outputs": [
    {
     "name": "stdout",
     "output_type": "stream",
     "text": [
      "CPU times: total: 0 ns\n",
      "Wall time: 4.45 ms\n"
     ]
    },
    {
     "data": {
      "text/plain": [
       "0      [Держава, DERZHAVA, \"Акционерный коммерческий ...\n",
       "1      [Credit Bank of Moscow, мкб, \"МОСКОВСКИЙ КРЕДИ...\n",
       "2      [\"Российский акционерный коммерческий дорожный...\n",
       "3      [алроса, alrosa, ALRS RX, Акционерная компания...\n",
       "4      [Акционерный Коммерческий банк \"АВАНГАРД\" - пу...\n",
       "                             ...                        \n",
       "250                         [Хендерсон, HNFG, Henderson]\n",
       "251                       [Совкомбанк, Sovcombank, SVCB]\n",
       "252    [АЗС \"Трасса\", АЗС Трасса, EUTR, АЗС «Трасса»,...\n",
       "253    [\"Каршеринг Руссия\", ПАО, Делимобил, Каршеринг...\n",
       "254                             [Диасофт, Diasoft, DIAS]\n",
       "Name: l_syns, Length: 255, dtype: object"
      ]
     },
     "execution_count": 110,
     "metadata": {},
     "output_type": "execute_result"
    }
   ],
   "source": [
    "%%time\n",
    "names['l_syns'] = names[l_syns].apply(lambda x: [re.sub(r'\\s{2,}', '', a) for a in x if str(a) != 'nan'], axis=1)\n",
    "names['l_syns'] = names['l_syns'].apply(lambda x: list(set(x)))\n",
    "names['l_syns']"
   ]
  },
  {
   "cell_type": "code",
   "execution_count": 111,
   "id": "5d7ef2c7-c524-4493-ba01-4077da856d75",
   "metadata": {},
   "outputs": [
    {
     "data": {
      "text/plain": [
       "['Держава',\n",
       " 'DERZHAVA',\n",
       " '\"Акционерный коммерческий банк \"Держава\" публичное акционерное общество\"',\n",
       " 'DERZP',\n",
       " 'DERZ']"
      ]
     },
     "execution_count": 111,
     "metadata": {},
     "output_type": "execute_result"
    }
   ],
   "source": [
    "names['l_syns'].loc[0]"
   ]
  },
  {
   "cell_type": "code",
   "execution_count": 112,
   "id": "dd2c108c-0f5c-41ef-8b39-fa3582d0b0fc",
   "metadata": {},
   "outputs": [
    {
     "data": {
      "text/html": [
       "<div>\n",
       "<style scoped>\n",
       "    .dataframe tbody tr th:only-of-type {\n",
       "        vertical-align: middle;\n",
       "    }\n",
       "\n",
       "    .dataframe tbody tr th {\n",
       "        vertical-align: top;\n",
       "    }\n",
       "\n",
       "    .dataframe thead th {\n",
       "        text-align: right;\n",
       "    }\n",
       "</style>\n",
       "<table border=\"1\" class=\"dataframe\">\n",
       "  <thead>\n",
       "    <tr style=\"text-align: right;\">\n",
       "      <th></th>\n",
       "      <th>issuerid</th>\n",
       "      <th>l_syns</th>\n",
       "    </tr>\n",
       "  </thead>\n",
       "  <tbody>\n",
       "    <tr>\n",
       "      <th>0</th>\n",
       "      <td>1</td>\n",
       "      <td>[Держава, DERZHAVA, \"Акционерный коммерческий ...</td>\n",
       "    </tr>\n",
       "    <tr>\n",
       "      <th>1</th>\n",
       "      <td>2</td>\n",
       "      <td>[Credit Bank of Moscow, мкб, \"МОСКОВСКИЙ КРЕДИ...</td>\n",
       "    </tr>\n",
       "    <tr>\n",
       "      <th>2</th>\n",
       "      <td>3</td>\n",
       "      <td>[\"Российский акционерный коммерческий дорожный...</td>\n",
       "    </tr>\n",
       "    <tr>\n",
       "      <th>3</th>\n",
       "      <td>4</td>\n",
       "      <td>[алроса, alrosa, ALRS RX, Акционерная компания...</td>\n",
       "    </tr>\n",
       "    <tr>\n",
       "      <th>4</th>\n",
       "      <td>5</td>\n",
       "      <td>[Акционерный Коммерческий банк \"АВАНГАРД\" - пу...</td>\n",
       "    </tr>\n",
       "  </tbody>\n",
       "</table>\n",
       "</div>"
      ],
      "text/plain": [
       "   issuerid                                             l_syns\n",
       "0         1  [Держава, DERZHAVA, \"Акционерный коммерческий ...\n",
       "1         2  [Credit Bank of Moscow, мкб, \"МОСКОВСКИЙ КРЕДИ...\n",
       "2         3  [\"Российский акционерный коммерческий дорожный...\n",
       "3         4  [алроса, alrosa, ALRS RX, Акционерная компания...\n",
       "4         5  [Акционерный Коммерческий банк \"АВАНГАРД\" - пу..."
      ]
     },
     "execution_count": 112,
     "metadata": {},
     "output_type": "execute_result"
    }
   ],
   "source": [
    "company_names = names[['issuerid', 'l_syns']].copy()\n",
    "company_names.head()"
   ]
  },
  {
   "cell_type": "code",
   "execution_count": 113,
   "id": "dc027c38-efd5-4ed3-a195-7cfbf7099ab0",
   "metadata": {},
   "outputs": [],
   "source": [
    "company_names.to_pickle('company_names.pickle')"
   ]
  },
  {
   "cell_type": "code",
   "execution_count": 104,
   "id": "6e12ec4e-3703-4387-8a83-2ccc10b961f3",
   "metadata": {},
   "outputs": [],
   "source": [
    "#company_names.to_csv('company_names.csv', index=False, sep=';')"
   ]
  },
  {
   "cell_type": "code",
   "execution_count": null,
   "id": "324e8b63-0593-4a75-a9da-2d1d872cf9c1",
   "metadata": {},
   "outputs": [],
   "source": []
  },
  {
   "cell_type": "code",
   "execution_count": null,
   "id": "906cda43-a490-44f8-8643-58bfcf4e733d",
   "metadata": {},
   "outputs": [],
   "source": []
  },
  {
   "cell_type": "markdown",
   "id": "64813420-3c79-4475-96c1-e50a12d965ee",
   "metadata": {},
   "source": [
    "# Разметка"
   ]
  },
  {
   "cell_type": "code",
   "execution_count": 374,
   "id": "b746deaa-cb36-4dd1-8503-571d4cd4bdbd",
   "metadata": {},
   "outputs": [
    {
     "data": {
      "text/plain": [
       "['credit bank of moscow',\n",
       " 'мкб',\n",
       " '\"московский кредитный банк\" (публичное акционерное общество)',\n",
       " 'cbom rx',\n",
       " 'credit bank',\n",
       " 'московский кредитный банк',\n",
       " 'cbom']"
      ]
     },
     "execution_count": 374,
     "metadata": {},
     "output_type": "execute_result"
    }
   ],
   "source": [
    "def ff(x):\n",
    "    for i in x:\n",
    "        if ' rx' in i:\n",
    "            x.append(i.split(' rx')[0])\n",
    "            break\n",
    "    return x\n",
    "\n",
    "company_names = pd.read_pickle('company_names.pickle')\n",
    "company_names['l_syns'] = company_names['l_syns'].apply(lambda x: [a.lower() for a in x])\n",
    "company_names['l_syns'] = company_names['l_syns'].apply(lambda x: ff(x))\n",
    "company_names['l_syns'].loc[1]"
   ]
  },
  {
   "cell_type": "code",
   "execution_count": 375,
   "id": "53418037-5dbd-4ff8-9eb8-59e72928ddf8",
   "metadata": {},
   "outputs": [
    {
     "data": {
      "text/html": [
       "<div>\n",
       "<style scoped>\n",
       "    .dataframe tbody tr th:only-of-type {\n",
       "        vertical-align: middle;\n",
       "    }\n",
       "\n",
       "    .dataframe tbody tr th {\n",
       "        vertical-align: top;\n",
       "    }\n",
       "\n",
       "    .dataframe thead th {\n",
       "        text-align: right;\n",
       "    }\n",
       "</style>\n",
       "<table border=\"1\" class=\"dataframe\">\n",
       "  <thead>\n",
       "    <tr style=\"text-align: right;\">\n",
       "      <th></th>\n",
       "      <th>ChannelID</th>\n",
       "      <th>messageid</th>\n",
       "      <th>issuerid</th>\n",
       "      <th>MessageID</th>\n",
       "      <th>DateAdded</th>\n",
       "      <th>DatePosted</th>\n",
       "      <th>MessageText</th>\n",
       "      <th>IsForward</th>\n",
       "      <th>MessageTextClean</th>\n",
       "    </tr>\n",
       "  </thead>\n",
       "  <tbody>\n",
       "    <tr>\n",
       "      <th>0</th>\n",
       "      <td>1197210433</td>\n",
       "      <td>5408</td>\n",
       "      <td>90</td>\n",
       "      <td>5408</td>\n",
       "      <td>2021-02-06 01:42:42</td>\n",
       "      <td>2020-04-29 07:29:01</td>\n",
       "      <td>?? Фокус недели #ФН  Сегодня ????? ММК опублик...</td>\n",
       "      <td>False</td>\n",
       "      <td>Фокус недели #ФН Сегодня ММК опубликует финан...</td>\n",
       "    </tr>\n",
       "    <tr>\n",
       "      <th>1</th>\n",
       "      <td>1203560567</td>\n",
       "      <td>64803</td>\n",
       "      <td>57</td>\n",
       "      <td>64803</td>\n",
       "      <td>2021-02-06 01:47:00</td>\n",
       "      <td>2020-01-21 12:51:42</td>\n",
       "      <td>??#LSRG  ЛСР - операционные результаты (2019г)...</td>\n",
       "      <td>False</td>\n",
       "      <td>#LSRG ЛСР - операционные результаты (2019г) *п...</td>\n",
       "    </tr>\n",
       "    <tr>\n",
       "      <th>2</th>\n",
       "      <td>1197210433</td>\n",
       "      <td>23389</td>\n",
       "      <td>152</td>\n",
       "      <td>23389</td>\n",
       "      <td>2021-07-21 13:46:31</td>\n",
       "      <td>2021-07-21 11:15:46</td>\n",
       "      <td>#CHMF Северсталь (CHMF) впервые поставила в Бр...</td>\n",
       "      <td>False</td>\n",
       "      <td>#CHMF Северсталь (CHMF) впервые поставила в Бр...</td>\n",
       "    </tr>\n",
       "    <tr>\n",
       "      <th>3</th>\n",
       "      <td>1066174394</td>\n",
       "      <td>677</td>\n",
       "      <td>112</td>\n",
       "      <td>677</td>\n",
       "      <td>2021-09-21 04:23:59</td>\n",
       "      <td>2016-12-16 10:00:04</td>\n",
       "      <td>\"Версия: Многоходовочка по Роснефти  Роснефтег...</td>\n",
       "      <td>False</td>\n",
       "      <td>\"Версия: Многоходовочка по Роснефти Роснефтега...</td>\n",
       "    </tr>\n",
       "    <tr>\n",
       "      <th>4</th>\n",
       "      <td>1239405989</td>\n",
       "      <td>4486</td>\n",
       "      <td>115</td>\n",
       "      <td>4486</td>\n",
       "      <td>2023-01-20 15:02:22</td>\n",
       "      <td>2023-01-20 13:03:38</td>\n",
       "      <td>🟢 Новости к этому часу   ⚪️ФРС США необходимо ...</td>\n",
       "      <td>False</td>\n",
       "      <td>🟢 Новости к этому часу ⚪️ФРС США необходимо пр...</td>\n",
       "    </tr>\n",
       "  </tbody>\n",
       "</table>\n",
       "</div>"
      ],
      "text/plain": [
       "    ChannelID  messageid  issuerid  MessageID           DateAdded  \\\n",
       "0  1197210433       5408        90       5408 2021-02-06 01:42:42   \n",
       "1  1203560567      64803        57      64803 2021-02-06 01:47:00   \n",
       "2  1197210433      23389       152      23389 2021-07-21 13:46:31   \n",
       "3  1066174394        677       112        677 2021-09-21 04:23:59   \n",
       "4  1239405989       4486       115       4486 2023-01-20 15:02:22   \n",
       "\n",
       "           DatePosted                                        MessageText  \\\n",
       "0 2020-04-29 07:29:01  ?? Фокус недели #ФН  Сегодня ????? ММК опублик...   \n",
       "1 2020-01-21 12:51:42  ??#LSRG  ЛСР - операционные результаты (2019г)...   \n",
       "2 2021-07-21 11:15:46  #CHMF Северсталь (CHMF) впервые поставила в Бр...   \n",
       "3 2016-12-16 10:00:04  \"Версия: Многоходовочка по Роснефти  Роснефтег...   \n",
       "4 2023-01-20 13:03:38  🟢 Новости к этому часу   ⚪️ФРС США необходимо ...   \n",
       "\n",
       "   IsForward                                   MessageTextClean  \n",
       "0      False   Фокус недели #ФН Сегодня ММК опубликует финан...  \n",
       "1      False  #LSRG ЛСР - операционные результаты (2019г) *п...  \n",
       "2      False  #CHMF Северсталь (CHMF) впервые поставила в Бр...  \n",
       "3      False  \"Версия: Многоходовочка по Роснефти Роснефтега...  \n",
       "4      False  🟢 Новости к этому часу ⚪️ФРС США необходимо пр...  "
      ]
     },
     "execution_count": 375,
     "metadata": {},
     "output_type": "execute_result"
    }
   ],
   "source": [
    "names_texts.head()"
   ]
  },
  {
   "cell_type": "code",
   "execution_count": null,
   "id": "cdbe7e11-5982-4022-8220-e9ebbe7c2257",
   "metadata": {},
   "outputs": [],
   "source": []
  },
  {
   "cell_type": "code",
   "execution_count": 411,
   "id": "44bc8eda-face-4474-accf-a9c68478da16",
   "metadata": {},
   "outputs": [],
   "source": [
    "df = names_texts[['issuerid', 'MessageTextClean']].copy()"
   ]
  },
  {
   "cell_type": "code",
   "execution_count": 412,
   "id": "f40c0b48-bf28-43dc-90ad-bc2427d63dcc",
   "metadata": {},
   "outputs": [
    {
     "data": {
      "text/plain": [
       "115"
      ]
     },
     "execution_count": 412,
     "metadata": {},
     "output_type": "execute_result"
    }
   ],
   "source": [
    "df.duplicated().sum()"
   ]
  },
  {
   "cell_type": "code",
   "execution_count": 413,
   "id": "898e0f4c-2c83-45dd-94a9-d187f5aa45e6",
   "metadata": {},
   "outputs": [],
   "source": [
    "df.drop_duplicates(inplace=True)"
   ]
  },
  {
   "cell_type": "code",
   "execution_count": 414,
   "id": "8b3e61cb-ea2a-48fe-9b25-6eb8a6a6645b",
   "metadata": {},
   "outputs": [
    {
     "data": {
      "text/plain": [
       "(19240, 2)"
      ]
     },
     "execution_count": 414,
     "metadata": {},
     "output_type": "execute_result"
    }
   ],
   "source": [
    "df.shape"
   ]
  },
  {
   "cell_type": "code",
   "execution_count": 415,
   "id": "dc49e3f5-d094-4fbe-9934-b0b19946f2c7",
   "metadata": {},
   "outputs": [
    {
     "data": {
      "text/plain": [
       "'алроса: есть ли перспективы у компании? недавно компания представила сильный отчет по итогам 2023 г. алроса продолжает реализовывать камни по неплохим для нее ценам, несмотря на множество введенных санкций в отношении нее. в этом посте обсудим финансовые результаты компании, цены на алмазы и влияние санкций на ее операционную деятельность. также дадим актуальный взгляд на алросу. финансовые результаты по итогам 2023 г. — выручка выросла на 9% г/г и составила 322.6 млрд руб. компания должна была прекратить продажи алмазов на 2 месяца (сентябрь-ноябрь), однако выручка за последнее полугодие была высокой. вероятно, продажи были остановлены только на 1-1.5 месяца. прибыль от продаж снизилась на 10% г/г, до 106.6 млрд руб., а чистая прибыль — на 15%, до 85.2 млрд руб. — fcf составил 2.2 млрд руб., тогда как мы ожидали 14.5 млрд руб. капитальные инвестиции были на 50% выше нашего прогноза и составили 63.6 млрд руб. — мы ожидаем, что по итогам 2023 г. компания заплатит 5.75 руб. дивидендов (6.7% див. доходности к текущей цене), из которых 3.77 руб. уже выплачены. дивиденд за 2-е полугодие 2023 г. может составить 1.98 руб. на акцию (50% от чистой прибыли), или 2.8% див. доходности к текущей цене. — чистый долг на конец 2023 г. составил 36 млрд руб., а коэффициент чистый долг/ebitda за этот же период — 0.3х санкции незначительно повлияют на операционную деятельность компании в отношении компании продолжают вводить санкции, но, несмотря на это, она показала хорошие финансовые результаты по итогам 2023 г. мы не считаем, что санкции окажут существенное влияние на операционную деятельность алросы. проблема запрета на импорт алмазов заключается в том, что чисто технически без высоких затрат сложно отслеживать происхождение алмазов. когда алмазы смешиваются с камнями из других шахт, то отличить их практически невозможно. только самые крупные и ценные алмазы упаковываются в отдельные мешки, а алроса как раз добывает мелкие алмазы. цены на алмазы продолжают стагнировать индекс цен на алмазы начал отрастать после длительной коррекции. с начала ноября он вырос с 107.1 до 108.8 пунктов. в ближайший год мы ожидаем возвращения индекса цен на алмазы к своему среднеисторическому уровню 120 пунктов на фоне стагнации предложения и увеличения спроса на алмазы в среднесрочной перспективе. актуальный взгляд на компанию компания остается закрытой (не раскрывает объемы производства/продаж, а также цены реализации алмазов). однако мы не наблюдаем сильного падения выручки, а значит, продукция алросы продолжает пользоваться спросом. тем не менее, исполнительный директор отметил, что компания намерена сохранить добычу алмазов на уровне 30 млн кар, тогда как ранее объемы производства должны были составить 34.5 млн кар. мы не считаем акции алросы интересными для покупки по причине снижения объемов производства алмазов по итогам 2024 г., а также стагнации цен на алмазы. марк пальшин senior analyst '"
      ]
     },
     "execution_count": 415,
     "metadata": {},
     "output_type": "execute_result"
    }
   ],
   "source": [
    "from nltk.stem.snowball import SnowballStemmer\n",
    "\n",
    "stemmer = SnowballStemmer(\"russian\")\n",
    "\n",
    "def find_name(text, name, size):\n",
    "    return [(m.start(), m.start()+size) for m in re.finditer(name, text)]\n",
    "\n",
    "k = 0\n",
    "def find_names(text, issuerid):\n",
    "    global k\n",
    "    #print('issuerid', issuerid)\n",
    "    text = text.lower()\n",
    "    d = {}\n",
    "    d['text'] = text\n",
    "    names = company_names.loc[company_names['issuerid']==issuerid, 'l_syns'].iloc[0]\n",
    "    #print(names)\n",
    "    l = []\n",
    "    for name in names:\n",
    "        l.extend(find_name(text, name, len(name)))\n",
    "        name1 = stemmer.stem(name)\n",
    "        if not name.__eq__(name1):\n",
    "            l.extend(find_name(text, name1, len(name)))\n",
    "    d['name'] = list(set(l))\n",
    "    if d['name']:\n",
    "        k += 1\n",
    "    return d\n",
    "\n",
    "n = 1500\n",
    "text = names_texts.loc[n, 'MessageTextClean']\n",
    "issuerid = names_texts.loc[n, 'issuerid']\n",
    "d = find_names(text, issuerid)\n",
    "d['text']"
   ]
  },
  {
   "cell_type": "code",
   "execution_count": 416,
   "id": "2a3f1774-9fde-4d69-90df-87f42ba79805",
   "metadata": {},
   "outputs": [
    {
     "data": {
      "text/plain": [
       "[(1604, 1610),\n",
       " (1910, 1916),\n",
       " (101, 107),\n",
       " (0, 6),\n",
       " (2505, 2511),\n",
       " (2753, 2759),\n",
       " (375, 381)]"
      ]
     },
     "execution_count": 416,
     "metadata": {},
     "output_type": "execute_result"
    }
   ],
   "source": [
    "d['name']"
   ]
  },
  {
   "cell_type": "code",
   "execution_count": 417,
   "id": "2eed4544-1994-4323-8340-70409a3cb3d1",
   "metadata": {},
   "outputs": [
    {
     "name": "stdout",
     "output_type": "stream",
     "text": [
      "алросы\n",
      "алроса\n",
      "алроса\n",
      "алроса\n",
      "алросы\n",
      "алросы\n",
      "алросу\n"
     ]
    }
   ],
   "source": [
    "for i in range(len(d['name'])):\n",
    "    print(d['text'][d['name'][i][0]:d['name'][i][1]])"
   ]
  },
  {
   "cell_type": "code",
   "execution_count": 418,
   "id": "1713c1fa-787a-4846-a486-ffdad30b5246",
   "metadata": {},
   "outputs": [
    {
     "name": "stderr",
     "output_type": "stream",
     "text": [
      "100%|██████████████████████████████████████████████████████████████████████████| 19240/19240 [00:15<00:00, 1238.37it/s]\n"
     ]
    }
   ],
   "source": [
    "from tqdm import tqdm\n",
    "\n",
    "pp = 0\n",
    "rez = []\n",
    "for i in tqdm(df.index):\n",
    "    z = df.loc[i]\n",
    "    if z['issuerid'] in company_names['issuerid'].to_numpy():\n",
    "        rez.append(find_names(z['MessageTextClean'], z['issuerid']))\n",
    "    else:\n",
    "        pp += 1"
   ]
  },
  {
   "cell_type": "code",
   "execution_count": 419,
   "id": "85c3ac47-0530-4011-90b3-12bc436db8c2",
   "metadata": {},
   "outputs": [
    {
     "data": {
      "text/plain": [
       "18005"
      ]
     },
     "execution_count": 419,
     "metadata": {},
     "output_type": "execute_result"
    }
   ],
   "source": [
    "k"
   ]
  },
  {
   "cell_type": "code",
   "execution_count": 420,
   "id": "7e85b98c-48bb-46a9-9717-6176bdc6b424",
   "metadata": {},
   "outputs": [
    {
     "data": {
      "text/plain": [
       "19240"
      ]
     },
     "execution_count": 420,
     "metadata": {},
     "output_type": "execute_result"
    }
   ],
   "source": [
    "df.shape[0]"
   ]
  },
  {
   "cell_type": "code",
   "execution_count": 421,
   "id": "0e8727a3-86fb-40bf-9903-78f3dbf26cf2",
   "metadata": {},
   "outputs": [
    {
     "data": {
      "text/plain": [
       "4"
      ]
     },
     "execution_count": 421,
     "metadata": {},
     "output_type": "execute_result"
    }
   ],
   "source": [
    "pp"
   ]
  },
  {
   "cell_type": "code",
   "execution_count": 422,
   "id": "606a0e0e-e5d6-462d-b9ff-39cb332d0db8",
   "metadata": {},
   "outputs": [
    {
     "data": {
      "text/plain": [
       "0.9366555809602993"
      ]
     },
     "execution_count": 422,
     "metadata": {},
     "output_type": "execute_result"
    }
   ],
   "source": [
    "18025 / 19244"
   ]
  },
  {
   "cell_type": "code",
   "execution_count": 423,
   "id": "0e9b7153-29ee-49ba-9851-bc8ba8294d4f",
   "metadata": {},
   "outputs": [
    {
     "data": {
      "text/plain": [
       "{'text': '\"версия: многоходовочка по роснефти роснефтегаз размещает депозит до 1,8 трлн руб в газпромбанке, газпромбанк через intesa sanpaolo финансирует кредитами glencore и катарский фонд qia, glencore и qia покупают у роснефтегаза пакет акций роснефти у роснефти ещё есть подконтрольный ему \"карманный\" банк вбрр, который также мог иметь взаимоотношения с intesa sanpaolo газетная версия ',\n",
       " 'name': [(247, 255), (236, 244), (211, 219), (27, 35), (36, 44)]}"
      ]
     },
     "execution_count": 423,
     "metadata": {},
     "output_type": "execute_result"
    }
   ],
   "source": [
    "rez[3]"
   ]
  },
  {
   "cell_type": "code",
   "execution_count": 424,
   "id": "bf0c97a8-df90-45a7-9dd2-7e96948da385",
   "metadata": {},
   "outputs": [],
   "source": [
    "with open('data_clean.json', 'w') as f:\n",
    "    json.dump({'data': rez}, f)"
   ]
  },
  {
   "cell_type": "code",
   "execution_count": null,
   "id": "1d08abfa-22b1-4353-8e02-8716e85116ae",
   "metadata": {},
   "outputs": [],
   "source": []
  },
  {
   "cell_type": "code",
   "execution_count": null,
   "id": "78bcf9a6-d6cf-4187-a88e-2b4d1a15e168",
   "metadata": {},
   "outputs": [],
   "source": []
  },
  {
   "cell_type": "code",
   "execution_count": null,
   "id": "464e7b60-c0b4-433b-b2c5-27420fd1c126",
   "metadata": {},
   "outputs": [],
   "source": []
  },
  {
   "cell_type": "code",
   "execution_count": null,
   "id": "a7f4276d-a78b-44e1-87ee-3156d3805702",
   "metadata": {},
   "outputs": [],
   "source": []
  },
  {
   "cell_type": "code",
   "execution_count": 452,
   "id": "168aeeb4-cb66-4413-850e-9fb58da895a4",
   "metadata": {},
   "outputs": [
    {
     "name": "stdout",
     "output_type": "stream",
     "text": [
      "227\n"
     ]
    },
    {
     "data": {
      "text/plain": [
       "{}"
      ]
     },
     "execution_count": 452,
     "metadata": {},
     "output_type": "execute_result"
    }
   ],
   "source": [
    "from nltk.stem.snowball import SnowballStemmer\n",
    "\n",
    "stemmer = SnowballStemmer(\"russian\")\n",
    "\n",
    "def find_name(text, name, size):\n",
    "    return [(m.start(), m.start()+size) for m in re.finditer(name, text)]\n",
    "\n",
    "k = 0\n",
    "def find_company_names(text, issuerid):\n",
    "    #print('issuerid', issuerid)\n",
    "    text = text.lower()\n",
    "    d = {}\n",
    "    d['text'] = text\n",
    "    names = company_names.loc[company_names['issuerid']==issuerid, 'l_syns'].iloc[0]\n",
    "    #print(names)\n",
    "    l = []\n",
    "    for name in names:\n",
    "        l.extend(find_name(text, name, len(name)))\n",
    "        name1 = stemmer.stem(name)\n",
    "        if not name.__eq__(name1):\n",
    "            l.extend(find_name(text, name1, len(name)))\n",
    "    return list(set(l))\n",
    "\n",
    "def find_companys_names(text):\n",
    "    global k\n",
    "    subdf = df.loc[df['MessageTextClean']==text]\n",
    "    l = []\n",
    "    d = {}\n",
    "    for issuerid in subdf['issuerid']:\n",
    "        print(issuerid)\n",
    "        ll = find_company_names(text, issuerid)\n",
    "        if not ll: return d\n",
    "        l.extend(ll)\n",
    "    k += 1\n",
    "    d['text'] = text\n",
    "    d['name'] = l\n",
    "    return d\n",
    "\n",
    "find_companys_names(df.loc[11, 'MessageTextClean'])"
   ]
  },
  {
   "cell_type": "code",
   "execution_count": 453,
   "id": "32fe43b9-dc13-49e4-8160-84212062faa9",
   "metadata": {},
   "outputs": [
    {
     "data": {
      "text/plain": [
       "' Главные новости за 20 июля: Итоги торгов. Показали уверенный рост опережающими темпами Рынок США. В фокусе - отчетность, коронавирус, стимулы Ключевые события недели: заседание ЦБ РФ, отчеты Tesla, Coca-Cola, июльские PMI X5Retail создает сеть пунктов выдачи. Что это значит для АФК Системы Chevron покупает Noble Energy за $5 млрд Ключевой акционер Петропавловска конвертирует облигации в акции. Что это значит Какие риски у доллара ВТБ - лидер дня'"
      ]
     },
     "execution_count": 453,
     "metadata": {},
     "output_type": "execute_result"
    }
   ],
   "source": [
    "df.loc[11, 'MessageTextClean']"
   ]
  },
  {
   "cell_type": "code",
   "execution_count": 454,
   "id": "2db2bb2b-bdcb-43c0-b1c9-46103f5cbc48",
   "metadata": {},
   "outputs": [
    {
     "data": {
      "text/html": [
       "<div>\n",
       "<style scoped>\n",
       "    .dataframe tbody tr th:only-of-type {\n",
       "        vertical-align: middle;\n",
       "    }\n",
       "\n",
       "    .dataframe tbody tr th {\n",
       "        vertical-align: top;\n",
       "    }\n",
       "\n",
       "    .dataframe thead th {\n",
       "        text-align: right;\n",
       "    }\n",
       "</style>\n",
       "<table border=\"1\" class=\"dataframe\">\n",
       "  <thead>\n",
       "    <tr style=\"text-align: right;\">\n",
       "      <th></th>\n",
       "      <th>issuerid</th>\n",
       "      <th>MessageTextClean</th>\n",
       "    </tr>\n",
       "  </thead>\n",
       "  <tbody>\n",
       "    <tr>\n",
       "      <th>10</th>\n",
       "      <td>227</td>\n",
       "      <td>Главные новости за 20 июля: Итоги торгов. Пок...</td>\n",
       "    </tr>\n",
       "    <tr>\n",
       "      <th>11</th>\n",
       "      <td>26</td>\n",
       "      <td>Главные новости за 20 июля: Итоги торгов. Пок...</td>\n",
       "    </tr>\n",
       "  </tbody>\n",
       "</table>\n",
       "</div>"
      ],
      "text/plain": [
       "    issuerid                                   MessageTextClean\n",
       "10       227   Главные новости за 20 июля: Итоги торгов. Пок...\n",
       "11        26   Главные новости за 20 июля: Итоги торгов. Пок..."
      ]
     },
     "execution_count": 454,
     "metadata": {},
     "output_type": "execute_result"
    }
   ],
   "source": [
    "df.loc[df['MessageTextClean']==df.loc[11, 'MessageTextClean']]"
   ]
  },
  {
   "cell_type": "code",
   "execution_count": null,
   "id": "ca3681ac-03af-4941-b604-14859e1c3fcb",
   "metadata": {},
   "outputs": [],
   "source": []
  },
  {
   "cell_type": "code",
   "execution_count": null,
   "id": "143f1521-6d72-4899-9639-70a9488ee7d5",
   "metadata": {},
   "outputs": [],
   "source": []
  },
  {
   "cell_type": "code",
   "execution_count": null,
   "id": "3fd6c7b9-b71e-4483-b087-9c55a83dc757",
   "metadata": {},
   "outputs": [],
   "source": [
    "pp = 0\n",
    "rez = []\n",
    "for i in tqdm(df.index):\n",
    "    z = df.loc[i]\n",
    "    if z['issuerid'] in company_names['issuerid'].to_numpy():\n",
    "        rez.append(find_names(z['MessageTextClean'], z['issuerid']))\n",
    "    else:\n",
    "        pp += 1"
   ]
  }
 ],
 "metadata": {
  "kernelspec": {
   "display_name": "Python 3 (ipykernel)",
   "language": "python",
   "name": "python3"
  },
  "language_info": {
   "codemirror_mode": {
    "name": "ipython",
    "version": 3
   },
   "file_extension": ".py",
   "mimetype": "text/x-python",
   "name": "python",
   "nbconvert_exporter": "python",
   "pygments_lexer": "ipython3",
   "version": "3.12.3"
  }
 },
 "nbformat": 4,
 "nbformat_minor": 5
}
