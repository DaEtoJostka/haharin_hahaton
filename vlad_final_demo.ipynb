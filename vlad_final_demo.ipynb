{
 "cells": [
  {
   "cell_type": "code",
   "execution_count": 11,
   "metadata": {},
   "outputs": [],
   "source": [
    "from catboost import CatBoostClassifier\n",
    "import pandas as pd\n",
    "import re"
   ]
  },
  {
   "cell_type": "code",
   "execution_count": 28,
   "metadata": {},
   "outputs": [
    {
     "name": "stderr",
     "output_type": "stream",
     "text": [
      "<>:27: SyntaxWarning: invalid escape sequence '\\T'\n",
      "<>:27: SyntaxWarning: invalid escape sequence '\\T'\n",
      "<>:27: SyntaxWarning: invalid escape sequence '\\T'\n",
      "<>:27: SyntaxWarning: invalid escape sequence '\\T'\n",
      "C:\\Users\\karlo\\AppData\\Local\\Temp\\ipykernel_18404\\31516525.py:27: SyntaxWarning: invalid escape sequence '\\T'\n",
      "  tsa_pipline = TSA_pipeline('TSA_inference\\TSA_model2', 'TSA_inference\\TSA_names.csv')\n",
      "C:\\Users\\karlo\\AppData\\Local\\Temp\\ipykernel_18404\\31516525.py:27: SyntaxWarning: invalid escape sequence '\\T'\n",
      "  tsa_pipline = TSA_pipeline('TSA_inference\\TSA_model2', 'TSA_inference\\TSA_names.csv')\n"
     ]
    }
   ],
   "source": [
    "class TSA_pipeline:\n",
    "    def __init__(self, model_path, names_path):\n",
    "        self.model = CatBoostClassifier()\n",
    "        self.model.load_model(model_path)\n",
    "        self.names = pd.read_csv(names_path)\n",
    "    \n",
    "    def f(self, x):\n",
    "        x = re.sub(r'([^a-zA-Zа-яА-яёЁ0-9 ])', r' \\1 ', x)\n",
    "        x = re.sub(r'\\s{2,}', ' ', x)\n",
    "        return x\n",
    "    \n",
    "    def get_sentiments(self, issureids:list, texts:list):\n",
    "        df = pd.DataFrame({'issuerid': issureids,\n",
    "                           'MessageTextClean': texts})\n",
    "        df = pd.merge(df, self.names, on=\"issuerid\", how=\"left\")\n",
    "        df['MessageTextClean'] = df['MessageTextClean'].astype(str)\n",
    "        df['l_syns'] = df['l_syns'].astype(str)\n",
    "        del df['issuerid']\n",
    "        \n",
    "        df['MessageTextClean'] = df['MessageTextClean'].apply(lambda x: self.f(x))\n",
    "        df['l_syns'] = df['l_syns'].apply(lambda x: self.f(x))\n",
    "        \n",
    "        predictions = self.model.predict(df)\n",
    "        \n",
    "        return predictions[:, 0]\n",
    "#Example call\n",
    "tsa_pipline = TSA_pipeline('TSA_inference\\TSA_model2', 'TSA_inference\\TSA_names.csv')"
   ]
  },
  {
   "cell_type": "code",
   "execution_count": 18,
   "metadata": {},
   "outputs": [
    {
     "data": {
      "text/plain": [
       "array([4], dtype=int64)"
      ]
     },
     "execution_count": 18,
     "metadata": {},
     "output_type": "execute_result"
    }
   ],
   "source": [
    "predicts"
   ]
  },
  {
   "cell_type": "code",
   "execution_count": 29,
   "metadata": {},
   "outputs": [
    {
     "name": "stderr",
     "output_type": "stream",
     "text": [
      "<>:23: SyntaxWarning: invalid escape sequence '\\T'\n",
      "<>:23: SyntaxWarning: invalid escape sequence '\\T'\n",
      "<>:23: SyntaxWarning: invalid escape sequence '\\T'\n",
      "<>:23: SyntaxWarning: invalid escape sequence '\\T'\n",
      "C:\\Users\\karlo\\AppData\\Local\\Temp\\ipykernel_18404\\2570497508.py:23: SyntaxWarning: invalid escape sequence '\\T'\n",
      "  tsa_pipeline = TSA_pipeline('TSA_inference\\TSA_model2', 'TSA_inference\\TSA_names.csv')\n",
      "C:\\Users\\karlo\\AppData\\Local\\Temp\\ipykernel_18404\\2570497508.py:23: SyntaxWarning: invalid escape sequence '\\T'\n",
      "  tsa_pipeline = TSA_pipeline('TSA_inference\\TSA_model2', 'TSA_inference\\TSA_names.csv')\n"
     ]
    },
    {
     "ename": "KeyboardInterrupt",
     "evalue": "",
     "output_type": "error",
     "traceback": [
      "\u001b[1;31m---------------------------------------------------------------------------\u001b[0m",
      "\u001b[1;31mKeyboardInterrupt\u001b[0m                         Traceback (most recent call last)",
      "Cell \u001b[1;32mIn[29], line 1\u001b[0m\n\u001b[1;32m----> 1\u001b[0m \u001b[38;5;28;01mdef\u001b[39;00m \u001b[38;5;21mpredict_with_indices\u001b[39m(tsa_pipeline, index_list, text_list):\n\u001b[0;32m      2\u001b[0m \u001b[38;5;250m    \u001b[39m\u001b[38;5;124;03m\"\"\"\u001b[39;00m\n\u001b[0;32m      3\u001b[0m \u001b[38;5;124;03m    Performs predictions using the provided TSA pipeline and lists of indices and texts.\u001b[39;00m\n\u001b[0;32m      4\u001b[0m \n\u001b[1;32m   (...)\u001b[0m\n\u001b[0;32m     11\u001b[0m \u001b[38;5;124;03m        A list of lists containing pairs of [index, prediction] for each input group.\u001b[39;00m\n\u001b[0;32m     12\u001b[0m \u001b[38;5;124;03m    \"\"\"\u001b[39;00m\n\u001b[0;32m     13\u001b[0m     results \u001b[38;5;241m=\u001b[39m []\n",
      "File \u001b[1;32m~\\AppData\\Local\\Packages\\PythonSoftwareFoundation.Python.3.12_qbz5n2kfra8p0\\LocalCache\\local-packages\\Python312\\site-packages\\debugpy\\_vendored\\pydevd\\_pydevd_bundle\\pydevd_frame.py:988\u001b[0m, in \u001b[0;36mPyDBFrame.trace_dispatch\u001b[1;34m(self, frame, event, arg)\u001b[0m\n\u001b[0;32m    986\u001b[0m \u001b[38;5;66;03m# if thread has a suspend flag, we suspend with a busy wait\u001b[39;00m\n\u001b[0;32m    987\u001b[0m \u001b[38;5;28;01mif\u001b[39;00m info\u001b[38;5;241m.\u001b[39mpydev_state \u001b[38;5;241m==\u001b[39m STATE_SUSPEND:\n\u001b[1;32m--> 988\u001b[0m     \u001b[38;5;28;43mself\u001b[39;49m\u001b[38;5;241;43m.\u001b[39;49m\u001b[43mdo_wait_suspend\u001b[49m\u001b[43m(\u001b[49m\u001b[43mthread\u001b[49m\u001b[43m,\u001b[49m\u001b[43m \u001b[49m\u001b[43mframe\u001b[49m\u001b[43m,\u001b[49m\u001b[43m \u001b[49m\u001b[43mevent\u001b[49m\u001b[43m,\u001b[49m\u001b[43m \u001b[49m\u001b[43marg\u001b[49m\u001b[43m)\u001b[49m\n\u001b[0;32m    989\u001b[0m     \u001b[38;5;28;01mreturn\u001b[39;00m \u001b[38;5;28mself\u001b[39m\u001b[38;5;241m.\u001b[39mtrace_dispatch\n\u001b[0;32m    990\u001b[0m \u001b[38;5;28;01melse\u001b[39;00m:\n",
      "File \u001b[1;32m~\\AppData\\Local\\Packages\\PythonSoftwareFoundation.Python.3.12_qbz5n2kfra8p0\\LocalCache\\local-packages\\Python312\\site-packages\\debugpy\\_vendored\\pydevd\\_pydevd_bundle\\pydevd_frame.py:165\u001b[0m, in \u001b[0;36mPyDBFrame.do_wait_suspend\u001b[1;34m(self, *args, **kwargs)\u001b[0m\n\u001b[0;32m    164\u001b[0m \u001b[38;5;28;01mdef\u001b[39;00m \u001b[38;5;21mdo_wait_suspend\u001b[39m(\u001b[38;5;28mself\u001b[39m, \u001b[38;5;241m*\u001b[39margs, \u001b[38;5;241m*\u001b[39m\u001b[38;5;241m*\u001b[39mkwargs):\n\u001b[1;32m--> 165\u001b[0m     \u001b[38;5;28;43mself\u001b[39;49m\u001b[38;5;241;43m.\u001b[39;49m\u001b[43m_args\u001b[49m\u001b[43m[\u001b[49m\u001b[38;5;241;43m0\u001b[39;49m\u001b[43m]\u001b[49m\u001b[38;5;241;43m.\u001b[39;49m\u001b[43mdo_wait_suspend\u001b[49m\u001b[43m(\u001b[49m\u001b[38;5;241;43m*\u001b[39;49m\u001b[43margs\u001b[49m\u001b[43m,\u001b[49m\u001b[43m \u001b[49m\u001b[38;5;241;43m*\u001b[39;49m\u001b[38;5;241;43m*\u001b[39;49m\u001b[43mkwargs\u001b[49m\u001b[43m)\u001b[49m\n",
      "File \u001b[1;32m~\\AppData\\Local\\Packages\\PythonSoftwareFoundation.Python.3.12_qbz5n2kfra8p0\\LocalCache\\local-packages\\Python312\\site-packages\\debugpy\\_vendored\\pydevd\\pydevd.py:2070\u001b[0m, in \u001b[0;36mPyDB.do_wait_suspend\u001b[1;34m(self, thread, frame, event, arg, exception_type)\u001b[0m\n\u001b[0;32m   2067\u001b[0m             from_this_thread\u001b[38;5;241m.\u001b[39mappend(frame_custom_thread_id)\n\u001b[0;32m   2069\u001b[0m     \u001b[38;5;28;01mwith\u001b[39;00m \u001b[38;5;28mself\u001b[39m\u001b[38;5;241m.\u001b[39m_threads_suspended_single_notification\u001b[38;5;241m.\u001b[39mnotify_thread_suspended(thread_id, thread, stop_reason):\n\u001b[1;32m-> 2070\u001b[0m         keep_suspended \u001b[38;5;241m=\u001b[39m \u001b[38;5;28;43mself\u001b[39;49m\u001b[38;5;241;43m.\u001b[39;49m\u001b[43m_do_wait_suspend\u001b[49m\u001b[43m(\u001b[49m\u001b[43mthread\u001b[49m\u001b[43m,\u001b[49m\u001b[43m \u001b[49m\u001b[43mframe\u001b[49m\u001b[43m,\u001b[49m\u001b[43m \u001b[49m\u001b[43mevent\u001b[49m\u001b[43m,\u001b[49m\u001b[43m \u001b[49m\u001b[43marg\u001b[49m\u001b[43m,\u001b[49m\u001b[43m \u001b[49m\u001b[43msuspend_type\u001b[49m\u001b[43m,\u001b[49m\u001b[43m \u001b[49m\u001b[43mfrom_this_thread\u001b[49m\u001b[43m,\u001b[49m\u001b[43m \u001b[49m\u001b[43mframes_tracker\u001b[49m\u001b[43m)\u001b[49m\n\u001b[0;32m   2072\u001b[0m frames_list \u001b[38;5;241m=\u001b[39m \u001b[38;5;28;01mNone\u001b[39;00m\n\u001b[0;32m   2074\u001b[0m \u001b[38;5;28;01mif\u001b[39;00m keep_suspended:\n\u001b[0;32m   2075\u001b[0m     \u001b[38;5;66;03m# This means that we should pause again after a set next statement.\u001b[39;00m\n",
      "File \u001b[1;32m~\\AppData\\Local\\Packages\\PythonSoftwareFoundation.Python.3.12_qbz5n2kfra8p0\\LocalCache\\local-packages\\Python312\\site-packages\\debugpy\\_vendored\\pydevd\\pydevd.py:2106\u001b[0m, in \u001b[0;36mPyDB._do_wait_suspend\u001b[1;34m(self, thread, frame, event, arg, suspend_type, from_this_thread, frames_tracker)\u001b[0m\n\u001b[0;32m   2103\u001b[0m         \u001b[38;5;28mself\u001b[39m\u001b[38;5;241m.\u001b[39m_call_input_hook()\n\u001b[0;32m   2105\u001b[0m     \u001b[38;5;28mself\u001b[39m\u001b[38;5;241m.\u001b[39mprocess_internal_commands()\n\u001b[1;32m-> 2106\u001b[0m     \u001b[43mtime\u001b[49m\u001b[38;5;241;43m.\u001b[39;49m\u001b[43msleep\u001b[49m\u001b[43m(\u001b[49m\u001b[38;5;241;43m0.01\u001b[39;49m\u001b[43m)\u001b[49m\n\u001b[0;32m   2108\u001b[0m \u001b[38;5;28mself\u001b[39m\u001b[38;5;241m.\u001b[39mcancel_async_evaluation(get_current_thread_id(thread), \u001b[38;5;28mstr\u001b[39m(\u001b[38;5;28mid\u001b[39m(frame)))\n\u001b[0;32m   2110\u001b[0m \u001b[38;5;66;03m# process any stepping instructions\u001b[39;00m\n",
      "\u001b[1;31mKeyboardInterrupt\u001b[0m: "
     ]
    }
   ],
   "source": [
    "def predict_with_indices(tsa_pipeline, index_list, text_list):\n",
    "    \"\"\"\n",
    "    Performs predictions using the provided TSA pipeline and lists of indices and texts.\n",
    "\n",
    "    Args:\n",
    "        tsa_pipeline: An instance of the TSA_pipeline class.\n",
    "        index_list: A list of lists containing indices, e.g., [[225],[53],[111]],[[112]].\n",
    "        text_list: A list of texts corresponding to the index groups.\n",
    "\n",
    "    Returns:\n",
    "        A list of lists containing pairs of [index, prediction] for each input group.\n",
    "    \"\"\"\n",
    "    results = []\n",
    "    for i, bracket in enumerate(index_list):  # Enumerate to get index for text_list\n",
    "        for index in bracket:\n",
    "            text = text_list[i]  # Get the correct text for this group\n",
    "            prediction = tsa_pipeline.get_sentiments([index], [text])\n",
    "            index.append(prediction)  # Modify the original index list\n",
    "        results.append(bracket)  # Append the modified bracket to results\n",
    "    return results\n",
    "\n",
    "# Example usage\n",
    "tsa_pipeline = TSA_pipeline('TSA_inference\\TSA_model2', 'TSA_inference\\TSA_names.csv')\n",
    "index_list = [[[225],[53],[111]],[[112]]]\n",
    "text_list = [\n",
    " \"​​Ключевой принцип создания портфеля  🔹Диверсификация – это скорее инвестирование в различные ценные бумаги для защиты портфеля и капитала. Мы используем разные инструменты (акции, облигации, фонды, золото), вкладываем в разные секторы экономики, в разные страны-экономики и просто в разные компании даже в рамках одной страны и одного сектора экономики.  🔹Про диверсификацию от Алексея Маркова. Это автор Хулиномики. Если не читали, то рекомендую:  «Даже беднейшим странам и беднейшим людям нужно распределять вложения — я серьёзно. Очень много финансовых проблем людей решается с помощью диверсификации. Это относится не только к богачам или к среднему классу, это относится к каждому человеку. Речь-то о рисках.   Очень часто неудача — это результат случайного события. Когда у людей начинаются реальные проблемы, которые загоняют их на днище, это почти всегда происходит из-за череды случайных событий, на которые человек не смог верно отреагировать; а правильное управление рисками может снизить удар по благополучию.» ©.  🔹Есть разные мнения поводу диверсификации. Некоторые считают, что диверсификация для слабаков. Лучше сконцентрироваться на одном активе и заработать свои иксы. При этом не забывайте, что успешных трейдеров очень немного… процента 2 или около того. И естественно вы войдете в этот процент, вы же «особенный».  🔹Другие считают, что компаний 10 в портфеле – это уже отличная диверсификация.  🔹Ну и есть крайности. Например 164 компании ( при этом часть денег заморожено в фондах, то есть диверсификация шире). Это уже нормальная диверсификация или еще нужно повышать? Думаю что надо еще повышать). И такой подход позволяет зарабатывать почти всегда.   Исключение – 2022 год, когда реализовались многие нерыночные риски. Часть замороженных фондов уже вернулись к своим значениям ( или близки к ним), которые были год назад. И это не смотря на мировые финансовые проблемы. В РФ все тоже не так плохо, многие компании стремятся к уровням, которые были до начала 24 февраля, дивиденды платятся, реинвестируются…  🔹Какие варианты распределения активов есть: — 60/40 процентов – акции/ облигации. — 80/20 — акции/ облигации. — Процент облигаций – это возраст инвестора. Остальное – акции. — Всепогодный портфель Рэя Далио. 40 процентов – долгосрочные облигации, 15 – среднесрочные облигации, 30 – акции, 7,5 — золото, 7,5 – сырьевые товары.  В последнем портфеле присутствуют различные активы и они как бы страхуют друг друга. Во время роста экономики растут акции и сырье, значит мы преимущественно докупаем облигации и золото. Во время кризиса акции падают, зато облигации позволяют нам покупать подешевевшие активы за счет купонов.  🔹Золото же стабилизирует портфель. Но в любом состоянии мы стараемся выдержать процентное соотношение. Либо что то продаем и тем самым проводит ребалансировку или просто покупаем наиболее подешевевшие активы.  🔹Есть еще Вечные портфели (напр. Тинькофф), в которых все сбалансировано. 25 процентов – акции, 25 – длинные облигации, 25 – короткие, 25 – золото. Они себя неплохо показывают в моменты кризисов, но комиссия там около 1 процента в год, что достаточно много. Но для ленивых подойдет.  🔹Можно заменить другими фондами, где комиссия ниже – Индекс Мосбиржи TMOS, Золото TGLD, Облигации TBRU и тем самым немного сэкономить.  🔹А можно попробовать составить аналогичный портфель самому, но для этого придется больше заморочиться. Если размер портфеля 100 тыс рублей, то можно купить золото на бирже – цена 5220 р, облигации – нет проблем в том, чтобы купить 50 разных штук, а вот составить портфель из российских акций на 25 тыс – это уже задача посложнее. Акция Норильского никеля – 15 900 рублей, Лукойл – 4590 р. То есть придется чем то явно жертвовать.  Спасибо за внимание, успешных инвестиций. 30-летний пенсионер Комментируйте на Смартлабе: https://smart-lab.ru/blog/896198.php\",\n",
    "\"Роснефть (ROSN) справедливая цена 425.17 рубля, потенциал роста на 23%. #сборник  1. Роснефть увеличила добычу на 3% в 2022 году, планирует увеличить ещё на 5% в 2023 https://t.me/AK47pfl/14309 2. Саудовская Аравия повышает цены реализации по нефти для всех регионов https://t.me/AK47pfl/14311 3. Нефть и газ зарабатывают много денег: BP решили увеличить инвестиции в добычу нефти https://t.me/AK47pfl/14313 4. Российская нефть проходит ограничения лучше прогнозов https://t.me/AK47pfl/14303 5. Цены реализации российской нефти, похоже, выше, чем принято считать https://t.me/AK47pfl/14304  @AK47pfl\"\n",
    "]\n",
    "\n",
    "predictions = predict_with_indices(tsa_pipeline, index_list, text_list)\n",
    "print(predictions)"
   ]
  },
  {
   "cell_type": "code",
   "execution_count": null,
   "metadata": {},
   "outputs": [
    {
     "data": {
      "text/plain": [
       "array([4], dtype=int64)"
      ]
     },
     "execution_count": 13,
     "metadata": {},
     "output_type": "execute_result"
    }
   ],
   "source": [
    "predicts"
   ]
  }
 ],
 "metadata": {
  "kernelspec": {
   "display_name": "Python 3",
   "language": "python",
   "name": "python3"
  },
  "language_info": {
   "codemirror_mode": {
    "name": "ipython",
    "version": 3
   },
   "file_extension": ".py",
   "mimetype": "text/x-python",
   "name": "python",
   "nbconvert_exporter": "python",
   "pygments_lexer": "ipython3",
   "version": "3.12.3"
  }
 },
 "nbformat": 4,
 "nbformat_minor": 2
}
