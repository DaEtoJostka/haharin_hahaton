{
 "cells": [
  {
   "cell_type": "code",
   "execution_count": 1,
   "id": "d411d4fc",
   "metadata": {},
   "outputs": [],
   "source": [
    "import json\n",
    "import pandas as pd\n",
    "from tqdm import tqdm\n",
    "import re\n",
    "import matplotlib.pyplot as plt\n",
    "import math"
   ]
  },
  {
   "cell_type": "code",
   "execution_count": 2,
   "id": "abf7a7f6",
   "metadata": {},
   "outputs": [
    {
     "name": "stderr",
     "output_type": "stream",
     "text": [
      "<>:1: SyntaxWarning: invalid escape sequence '\\s'\n",
      "<>:1: SyntaxWarning: invalid escape sequence '\\s'\n",
      "C:\\Users\\karlo\\AppData\\Local\\Temp\\ipykernel_20888\\2514036228.py:1: SyntaxWarning: invalid escape sequence '\\s'\n",
      "  f = open('data\\sentiment_dataset\\data2_clean.json', encoding='utf-8')\n"
     ]
    }
   ],
   "source": [
    "f = open('data\\sentiment_dataset\\data2_clean.json', encoding='utf-8')\n",
    "skills = json.load(f)"
   ]
  },
  {
   "cell_type": "code",
   "execution_count": 3,
   "id": "cde68f0b",
   "metadata": {},
   "outputs": [],
   "source": [
    "skills = skills['data']"
   ]
  },
  {
   "cell_type": "code",
   "execution_count": 4,
   "id": "efa1f4c0",
   "metadata": {},
   "outputs": [
    {
     "data": {
      "text/plain": [
       "{'text': ' Фокус недели #ФН Сегодня ММК опубликует финансовую отчётность за 1 кв. 2020 #MAGN #Отчетность Магнит представит операционные результаты за 1 кв. 2020 #MGNT #Результаты Новатэк опубликует финансовую отчётность за 1 кв. 2020 #NVTK #Отчетность ФРС США представит решение по процентной ставке #ФРС #Макро Tesla опубликует финансовую отчётность за 1 кв. 2020 #TSLA #Отчетность Microsoft опубликует финансовую отчётность за 1 кв. 2020 #MSFT #Отчетность Facebook опубликует финансовую отчётность за 1 кв. 2020 #FB #Отчетность 30 апреля Детский мир опубликует финансовую отчётность по МСФО за 2019 #DSKY #Отчетность Энел Россия опубликует финансовую отчётность по РСБУ за 1 кв. #ENRU #Отчетность Evraz представит операционные результаты за 1 кв. 2020 #EVR #Результаты НорНикель опубликует производственные результаты за 1 кв. 2020 #GMKN #Результаты РусГидро представит финансовую отчётность по РСБУ за 1 кв. 2020 #HYDR #Отчетность СД НЛМК рассмотрит дивиденды за 1 кв. 2020 #NLMK #Дивиденды Apple опубликует финансовую отчётность за 1 кв. 2020 #AAPL #Отчетность Amazon опубликует финансовую отчётность за 1 кв. 2020 #AMZN #Отчетность Gilead опубликует финансовую отчётность за 1 кв. 2020 #GILD #Отчетность 1 мая Торги на МосБирже не проводятся из-за праздников #MOEX #График Exxon Mobil опубликует финансовую отчетность за 1 кв. 2020 #XOM #Отчетность Chevron публикует финансовую отчетность за 1 кв. 2020 #CVX #Отчетность 4 мая Акции ЦМТ последний день торгуются с дивидендом 0,56 руб. на акцию #WTCM #Дивиденды',\n",
       " 'name': [[78, 82], [26, 29]]}"
      ]
     },
     "execution_count": 4,
     "metadata": {},
     "output_type": "execute_result"
    }
   ],
   "source": [
    "skills[0]"
   ]
  },
  {
   "cell_type": "code",
   "execution_count": 6,
   "id": "368254ae",
   "metadata": {},
   "outputs": [
    {
     "name": "stderr",
     "output_type": "stream",
     "text": [
      "100%|██████████| 15385/15385 [00:00<00:00, 1695597.84it/s]\n"
     ]
    }
   ],
   "source": [
    "all_skills = []\n",
    "for i in tqdm(range(len(skills))): \n",
    "    skill_obj = skills[i]['name']\n",
    "    skills_in = []\n",
    "    for j in range(len(skill_obj)): \n",
    "        skills_in.append(skill_obj[j])\n",
    "    all_skills.append(skills_in)"
   ]
  },
  {
   "cell_type": "code",
   "execution_count": 7,
   "id": "a6c3d81d",
   "metadata": {},
   "outputs": [],
   "source": [
    "texts = []\n",
    "for i in skills: \n",
    "    texts.append(i['text'])"
   ]
  },
  {
   "cell_type": "code",
   "execution_count": 8,
   "id": "4f4dd744",
   "metadata": {},
   "outputs": [],
   "source": [
    "count_of_words = []\n",
    "for i in texts: \n",
    "    count_of_words.append(len(i.split(' ')))"
   ]
  },
  {
   "cell_type": "code",
   "execution_count": 9,
   "id": "f00c9f63",
   "metadata": {},
   "outputs": [
    {
     "data": {
      "text/plain": [
       "102.48326291842704"
      ]
     },
     "execution_count": 9,
     "metadata": {},
     "output_type": "execute_result"
    }
   ],
   "source": [
    "sum(count_of_words) / len(count_of_words)"
   ]
  },
  {
   "cell_type": "code",
   "execution_count": 10,
   "id": "17fa1808",
   "metadata": {},
   "outputs": [
    {
     "data": {
      "image/png": "[encoded data removed]",
      "text/plain": [
       "<Figure size 640x480 with 1 Axes>"
      ]
     },
     "metadata": {},
     "output_type": "display_data"
    }
   ],
   "source": [
    "plt.hist(count_of_words, bins=50)\n",
    "plt.title('Распределение количества слов в описаниях вакансий')\n",
    "plt.show()"
   ]
  },
  {
   "cell_type": "code",
   "execution_count": 11,
   "id": "11ed4f19",
   "metadata": {},
   "outputs": [
    {
     "data": {
      "text/plain": [
       "' Фокус недели #ФН Сегодня ММК опубликует финансовую отчётность за 1 кв. 2020 #MAGN #Отчетность Магнит представит операционные результаты за 1 кв. 2020 #MGNT #Результаты Новатэк опубликует финансовую отчётность за 1 кв. 2020 #NVTK #Отчетность ФРС США представит решение по процентной ставке #ФРС #Макро Tesla опубликует финансовую отчётность за 1 кв. 2020 #TSLA #Отчетность Microsoft опубликует финансовую отчётность за 1 кв. 2020 #MSFT #Отчетность Facebook опубликует финансовую отчётность за 1 кв. 2020 #FB #Отчетность 30 апреля Детский мир опубликует финансовую отчётность по МСФО за 2019 #DSKY #Отчетность Энел Россия опубликует финансовую отчётность по РСБУ за 1 кв. #ENRU #Отчетность Evraz представит операционные результаты за 1 кв. 2020 #EVR #Результаты НорНикель опубликует производственные результаты за 1 кв. 2020 #GMKN #Результаты РусГидро представит финансовую отчётность по РСБУ за 1 кв. 2020 #HYDR #Отчетность СД НЛМК рассмотрит дивиденды за 1 кв. 2020 #NLMK #Дивиденды Apple опубликует финансовую отчётность за 1 кв. 2020 #AAPL #Отчетность Amazon опубликует финансовую отчётность за 1 кв. 2020 #AMZN #Отчетность Gilead опубликует финансовую отчётность за 1 кв. 2020 #GILD #Отчетность 1 мая Торги на МосБирже не проводятся из-за праздников #MOEX #График Exxon Mobil опубликует финансовую отчетность за 1 кв. 2020 #XOM #Отчетность Chevron публикует финансовую отчетность за 1 кв. 2020 #CVX #Отчетность 4 мая Акции ЦМТ последний день торгуются с дивидендом 0,56 руб. на акцию #WTCM #Дивиденды'"
      ]
     },
     "execution_count": 11,
     "metadata": {},
     "output_type": "execute_result"
    }
   ],
   "source": [
    "texts[0]"
   ]
  },
  {
   "cell_type": "code",
   "execution_count": 12,
   "id": "249a9185",
   "metadata": {},
   "outputs": [],
   "source": [
    "data_texts = pd.DataFrame()\n",
    "data_texts['description'] = texts "
   ]
  },
  {
   "cell_type": "code",
   "execution_count": 13,
   "id": "3cfce6df",
   "metadata": {},
   "outputs": [
    {
     "data": {
      "text/html": [
       "<div>\n",
       "<style scoped>\n",
       "    .dataframe tbody tr th:only-of-type {\n",
       "        vertical-align: middle;\n",
       "    }\n",
       "\n",
       "    .dataframe tbody tr th {\n",
       "        vertical-align: top;\n",
       "    }\n",
       "\n",
       "    .dataframe thead th {\n",
       "        text-align: right;\n",
       "    }\n",
       "</style>\n",
       "<table border=\"1\" class=\"dataframe\">\n",
       "  <thead>\n",
       "    <tr style=\"text-align: right;\">\n",
       "      <th></th>\n",
       "      <th>description</th>\n",
       "    </tr>\n",
       "  </thead>\n",
       "  <tbody>\n",
       "    <tr>\n",
       "      <th>0</th>\n",
       "      <td>Фокус недели #ФН Сегодня ММК опубликует финан...</td>\n",
       "    </tr>\n",
       "    <tr>\n",
       "      <th>1</th>\n",
       "      <td>#LSRG ЛСР - операционные результаты (2019г) *п...</td>\n",
       "    </tr>\n",
       "    <tr>\n",
       "      <th>2</th>\n",
       "      <td>#CHMF Северсталь (CHMF) впервые поставила в Бр...</td>\n",
       "    </tr>\n",
       "    <tr>\n",
       "      <th>3</th>\n",
       "      <td>\"Версия: Многоходовочка по Роснефти Роснефтега...</td>\n",
       "    </tr>\n",
       "    <tr>\n",
       "      <th>4</th>\n",
       "      <td>🟢 Новости к этому часу ⚪️ФРС США необходимо пр...</td>\n",
       "    </tr>\n",
       "    <tr>\n",
       "      <th>...</th>\n",
       "      <td>...</td>\n",
       "    </tr>\n",
       "    <tr>\n",
       "      <th>15380</th>\n",
       "      <td>SMLT +2% Недвига срет сегодня охуенно 🚀</td>\n",
       "    </tr>\n",
       "    <tr>\n",
       "      <th>15381</th>\n",
       "      <td>\"#NLMK \"Новолипецкий металлургический комбинат...</td>\n",
       "    </tr>\n",
       "    <tr>\n",
       "      <th>15382</th>\n",
       "      <td>За 2020 год на МосБирже может появиться 10 но...</td>\n",
       "    </tr>\n",
       "    <tr>\n",
       "      <th>15383</th>\n",
       "      <td>UPD: ТА Интер РАО UPD: ТА Новатэк</td>\n",
       "    </tr>\n",
       "    <tr>\n",
       "      <th>15384</th>\n",
       "      <td>🇷🇺#MVID #отчетность 12 марта - М.Видео - МСФО ...</td>\n",
       "    </tr>\n",
       "  </tbody>\n",
       "</table>\n",
       "<p>15385 rows × 1 columns</p>\n",
       "</div>"
      ],
      "text/plain": [
       "                                             description\n",
       "0       Фокус недели #ФН Сегодня ММК опубликует финан...\n",
       "1      #LSRG ЛСР - операционные результаты (2019г) *п...\n",
       "2      #CHMF Северсталь (CHMF) впервые поставила в Бр...\n",
       "3      \"Версия: Многоходовочка по Роснефти Роснефтега...\n",
       "4      🟢 Новости к этому часу ⚪️ФРС США необходимо пр...\n",
       "...                                                  ...\n",
       "15380            SMLT +2% Недвига срет сегодня охуенно 🚀\n",
       "15381  \"#NLMK \"Новолипецкий металлургический комбинат...\n",
       "15382   За 2020 год на МосБирже может появиться 10 но...\n",
       "15383                  UPD: ТА Интер РАО UPD: ТА Новатэк\n",
       "15384  🇷🇺#MVID #отчетность 12 марта - М.Видео - МСФО ...\n",
       "\n",
       "[15385 rows x 1 columns]"
      ]
     },
     "execution_count": 13,
     "metadata": {},
     "output_type": "execute_result"
    }
   ],
   "source": [
    "data_texts"
   ]
  },
  {
   "cell_type": "code",
   "execution_count": 14,
   "id": "446459af",
   "metadata": {},
   "outputs": [
    {
     "data": {
      "text/plain": [
       "[[6, 9], [1, 5]]"
      ]
     },
     "execution_count": 14,
     "metadata": {},
     "output_type": "execute_result"
    }
   ],
   "source": [
    "skills[1]['name']"
   ]
  },
  {
   "cell_type": "code",
   "execution_count": 15,
   "id": "8cedee7d",
   "metadata": {},
   "outputs": [],
   "source": [
    "all_intervals = []\n",
    "all_skills = []\n",
    "left_shift = 0\n",
    "for j in range(len(skills)):\n",
    "    intervals = []\n",
    "    skiller = []\n",
    "    skills_text = data_texts.loc[j]['description']\n",
    "    for i in range(len(skills[j]['name'])):\n",
    "        if skills[j]['name'][i][1] <= len(skills_text):\n",
    "            interval = skills[j]['name'][i]\n",
    "            start = interval[0] - left_shift\n",
    "            end = interval[1] - left_shift\n",
    "            while skills_text[start] == ' ' and start < end: \n",
    "                start += 1\n",
    "            while skills_text[end - 1] == ' ' and end > start:\n",
    "                end -= 1\n",
    "            left = skills_text[:start].count(' ')\n",
    "            right = skills_text[:end].count(' ')\n",
    "            intervals.append(str(start - left)+':'+str(end - right))\n",
    "            skiller.append(skills_text[start:end])\n",
    "\n",
    "    all_intervals.append(intervals)\n",
    "    all_skills.append(skiller)"
   ]
  },
  {
   "cell_type": "code",
   "execution_count": 16,
   "id": "3aca1ce8",
   "metadata": {},
   "outputs": [
    {
     "data": {
      "text/plain": [
       "45035"
      ]
     },
     "execution_count": 16,
     "metadata": {},
     "output_type": "execute_result"
    }
   ],
   "source": [
    "counter = 0\n",
    "for i in range(len(all_skills)): \n",
    "    counter += len(all_skills[i]) \n",
    "counter"
   ]
  },
  {
   "cell_type": "code",
   "execution_count": 17,
   "id": "ca738dd9",
   "metadata": {},
   "outputs": [],
   "source": [
    "found_skills = []\n",
    "for i in all_intervals: \n",
    "    found_skills.append(';'.join(i))"
   ]
  },
  {
   "cell_type": "code",
   "execution_count": 18,
   "id": "6f62c68c",
   "metadata": {},
   "outputs": [],
   "source": [
    "found_name_skills = []\n",
    "for i in all_skills: \n",
    "    found_name_skills.append(';'.join(i))"
   ]
  },
  {
   "cell_type": "code",
   "execution_count": 19,
   "id": "41cf3380",
   "metadata": {},
   "outputs": [
    {
     "data": {
      "text/plain": [
       "15385"
      ]
     },
     "execution_count": 19,
     "metadata": {},
     "output_type": "execute_result"
    }
   ],
   "source": [
    "len(found_skills)"
   ]
  },
  {
   "cell_type": "code",
   "execution_count": 20,
   "id": "a196414e",
   "metadata": {},
   "outputs": [],
   "source": [
    "data_texts['desc_skills'] = found_name_skills\n",
    "data_texts['skills_ind'] = found_skills"
   ]
  },
  {
   "cell_type": "code",
   "execution_count": 21,
   "id": "73fe59f1",
   "metadata": {},
   "outputs": [
    {
     "data": {
      "text/html": [
       "<div>\n",
       "<style scoped>\n",
       "    .dataframe tbody tr th:only-of-type {\n",
       "        vertical-align: middle;\n",
       "    }\n",
       "\n",
       "    .dataframe tbody tr th {\n",
       "        vertical-align: top;\n",
       "    }\n",
       "\n",
       "    .dataframe thead th {\n",
       "        text-align: right;\n",
       "    }\n",
       "</style>\n",
       "<table border=\"1\" class=\"dataframe\">\n",
       "  <thead>\n",
       "    <tr style=\"text-align: right;\">\n",
       "      <th></th>\n",
       "      <th>description</th>\n",
       "      <th>desc_skills</th>\n",
       "      <th>skills_ind</th>\n",
       "    </tr>\n",
       "  </thead>\n",
       "  <tbody>\n",
       "    <tr>\n",
       "      <th>0</th>\n",
       "      <td>Фокус недели #ФН Сегодня ММК опубликует финан...</td>\n",
       "      <td>MAGN;ММК</td>\n",
       "      <td>65:69;21:24</td>\n",
       "    </tr>\n",
       "    <tr>\n",
       "      <th>1</th>\n",
       "      <td>#LSRG ЛСР - операционные результаты (2019г) *п...</td>\n",
       "      <td>ЛСР;LSRG</td>\n",
       "      <td>5:8;1:5</td>\n",
       "    </tr>\n",
       "    <tr>\n",
       "      <th>2</th>\n",
       "      <td>#CHMF Северсталь (CHMF) впервые поставила в Бр...</td>\n",
       "      <td>CHMF;Северсталь;CHMF</td>\n",
       "      <td>16:20;5:15;1:5</td>\n",
       "    </tr>\n",
       "    <tr>\n",
       "      <th>3</th>\n",
       "      <td>\"Версия: Многоходовочка по Роснефти Роснефтега...</td>\n",
       "      <td>Роснефти;Роснефти;Роснефте;Роснефти;Роснефте</td>\n",
       "      <td>213:221;204:212;182:190;24:32;32:40</td>\n",
       "    </tr>\n",
       "    <tr>\n",
       "      <th>4</th>\n",
       "      <td>🟢 Новости к этому часу ⚪️ФРС США необходимо пр...</td>\n",
       "      <td>NVTK;НОВАТЭК</td>\n",
       "      <td>970:974;466:473</td>\n",
       "    </tr>\n",
       "    <tr>\n",
       "      <th>...</th>\n",
       "      <td>...</td>\n",
       "      <td>...</td>\n",
       "      <td>...</td>\n",
       "    </tr>\n",
       "    <tr>\n",
       "      <th>15380</th>\n",
       "      <td>SMLT +2% Недвига срет сегодня охуенно 🚀</td>\n",
       "      <td>SMLT</td>\n",
       "      <td>0:4</td>\n",
       "    </tr>\n",
       "    <tr>\n",
       "      <th>15381</th>\n",
       "      <td>\"#NLMK \"Новолипецкий металлургический комбинат...</td>\n",
       "      <td>НЛМК;NLMK;НЛМК</td>\n",
       "      <td>705:709;2:6;752:756</td>\n",
       "    </tr>\n",
       "    <tr>\n",
       "      <th>15382</th>\n",
       "      <td>За 2020 год на МосБирже может появиться 10 но...</td>\n",
       "      <td>Эталон груп</td>\n",
       "      <td>220:230</td>\n",
       "    </tr>\n",
       "    <tr>\n",
       "      <th>15383</th>\n",
       "      <td>UPD: ТА Интер РАО UPD: ТА Новатэк</td>\n",
       "      <td>Новатэк</td>\n",
       "      <td>20:27</td>\n",
       "    </tr>\n",
       "    <tr>\n",
       "      <th>15384</th>\n",
       "      <td>🇷🇺#MVID #отчетность 12 марта - М.Видео - МСФО ...</td>\n",
       "      <td>MVID</td>\n",
       "      <td>3:7</td>\n",
       "    </tr>\n",
       "  </tbody>\n",
       "</table>\n",
       "<p>15385 rows × 3 columns</p>\n",
       "</div>"
      ],
      "text/plain": [
       "                                             description  \\\n",
       "0       Фокус недели #ФН Сегодня ММК опубликует финан...   \n",
       "1      #LSRG ЛСР - операционные результаты (2019г) *п...   \n",
       "2      #CHMF Северсталь (CHMF) впервые поставила в Бр...   \n",
       "3      \"Версия: Многоходовочка по Роснефти Роснефтега...   \n",
       "4      🟢 Новости к этому часу ⚪️ФРС США необходимо пр...   \n",
       "...                                                  ...   \n",
       "15380            SMLT +2% Недвига срет сегодня охуенно 🚀   \n",
       "15381  \"#NLMK \"Новолипецкий металлургический комбинат...   \n",
       "15382   За 2020 год на МосБирже может появиться 10 но...   \n",
       "15383                  UPD: ТА Интер РАО UPD: ТА Новатэк   \n",
       "15384  🇷🇺#MVID #отчетность 12 марта - М.Видео - МСФО ...   \n",
       "\n",
       "                                        desc_skills  \\\n",
       "0                                          MAGN;ММК   \n",
       "1                                          ЛСР;LSRG   \n",
       "2                              CHMF;Северсталь;CHMF   \n",
       "3      Роснефти;Роснефти;Роснефте;Роснефти;Роснефте   \n",
       "4                                      NVTK;НОВАТЭК   \n",
       "...                                             ...   \n",
       "15380                                          SMLT   \n",
       "15381                                НЛМК;NLMK;НЛМК   \n",
       "15382                                   Эталон груп   \n",
       "15383                                       Новатэк   \n",
       "15384                                          MVID   \n",
       "\n",
       "                                skills_ind  \n",
       "0                              65:69;21:24  \n",
       "1                                  5:8;1:5  \n",
       "2                           16:20;5:15;1:5  \n",
       "3      213:221;204:212;182:190;24:32;32:40  \n",
       "4                          970:974;466:473  \n",
       "...                                    ...  \n",
       "15380                                  0:4  \n",
       "15381                  705:709;2:6;752:756  \n",
       "15382                              220:230  \n",
       "15383                                20:27  \n",
       "15384                                  3:7  \n",
       "\n",
       "[15385 rows x 3 columns]"
      ]
     },
     "execution_count": 21,
     "metadata": {},
     "output_type": "execute_result"
    }
   ],
   "source": [
    "data_texts"
   ]
  },
  {
   "cell_type": "code",
   "execution_count": 22,
   "id": "0ce24a73",
   "metadata": {},
   "outputs": [],
   "source": [
    "data_texts.to_csv('data_less_ind.csv', index=False)"
   ]
  },
  {
   "cell_type": "code",
   "execution_count": null,
   "id": "17402a8d",
   "metadata": {},
   "outputs": [],
   "source": []
  }
 ],
 "metadata": {
  "kernelspec": {
   "display_name": "Python 3 (ipykernel)",
   "language": "python",
   "name": "python3"
  },
  "language_info": {
   "codemirror_mode": {
    "name": "ipython",
    "version": 3
   },
   "file_extension": ".py",
   "mimetype": "text/x-python",
   "name": "python",
   "nbconvert_exporter": "python",
   "pygments_lexer": "ipython3",
   "version": "3.12.3"
  }
 },
 "nbformat": 4,
 "nbformat_minor": 5
}
