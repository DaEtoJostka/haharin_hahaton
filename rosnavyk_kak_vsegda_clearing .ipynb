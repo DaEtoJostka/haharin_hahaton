{
 "cells": [
  {
   "cell_type": "code",
   "execution_count": 3,
   "id": "d411d4fc",
   "metadata": {},
   "outputs": [],
   "source": [
    "import json\n",
    "import pandas as pd\n",
    "from tqdm import tqdm\n",
    "import re\n",
    "import matplotlib.pyplot as plt\n",
    "import math"
   ]
  },
  {
   "cell_type": "code",
   "execution_count": 3,
   "id": "abf7a7f6",
   "metadata": {},
   "outputs": [],
   "source": [
    "f = open('data.json', encoding='utf-8')\n",
    "skills = json.load(f)"
   ]
  },
  {
   "cell_type": "code",
   "execution_count": 8,
   "id": "cde68f0b",
   "metadata": {},
   "outputs": [],
   "source": [
    "skills = skills['data']"
   ]
  },
  {
   "cell_type": "code",
   "execution_count": 15,
   "id": "efa1f4c0",
   "metadata": {},
   "outputs": [
    {
     "data": {
      "text/plain": [
       "{'text': ' фокус недели #фн сегодня ммк опубликует финансовую отчётность за 1 кв. 2020 #magn #отчетность магнит представит операционные результаты за 1 кв. 2020 #mgnt #результаты новатэк опубликует финансовую отчётность за 1 кв. 2020 #nvtk #отчетность фрс сша представит решение по процентной ставке #фрс #макро tesla опубликует финансовую отчётность за 1 кв. 2020 #tsla #отчетность microsoft опубликует финансовую отчётность за 1 кв. 2020 #msft #отчетность facebook опубликует финансовую отчётность за 1 кв. 2020 #fb #отчетность 30 апреля детский мир опубликует финансовую отчётность по мсфо за 2019 #dsky #отчетность энел россия опубликует финансовую отчётность по рсбу за 1 кв. #enru #отчетность evraz представит операционные результаты за 1 кв. 2020 #evr #результаты норникель опубликует производственные результаты за 1 кв. 2020 #gmkn #результаты русгидро представит финансовую отчётность по рсбу за 1 кв. 2020 #hydr #отчетность сд нлмк рассмотрит дивиденды за 1 кв. 2020 #nlmk #дивиденды apple опубликует финансовую отчётность за 1 кв. 2020 #aapl #отчетность amazon опубликует финансовую отчётность за 1 кв. 2020 #amzn #отчетность gilead опубликует финансовую отчётность за 1 кв. 2020 #gild #отчетность 1 мая торги на мосбирже не проводятся из-за праздников #moex #график exxon mobil опубликует финансовую отчетность за 1 кв. 2020 #xom #отчетность chevron публикует финансовую отчетность за 1 кв. 2020 #cvx #отчетность 4 мая акции цмт последний день торгуются с дивидендом 0,56 руб. на акцию #wtcm #дивиденды',\n",
       " 'name': [[78, 82], [26, 29]]}"
      ]
     },
     "execution_count": 15,
     "metadata": {},
     "output_type": "execute_result"
    }
   ],
   "source": [
    "skills[0]"
   ]
  },
  {
   "cell_type": "code",
   "execution_count": 16,
   "id": "368254ae",
   "metadata": {},
   "outputs": [
    {
     "name": "stderr",
     "output_type": "stream",
     "text": [
      "100%|████████████████████████████████████████████████████████████████████████| 19236/19236 [00:00<00:00, 663058.59it/s]\n"
     ]
    }
   ],
   "source": [
    "all_skills = []\n",
    "for i in tqdm(range(len(skills))): \n",
    "    skill_obj = skills[i]['name']\n",
    "    skills_in = []\n",
    "    for j in range(len(skill_obj)): \n",
    "        skills_in.append(skill_obj[j])\n",
    "    all_skills.append(skills_in)"
   ]
  },
  {
   "cell_type": "code",
   "execution_count": 17,
   "id": "a6c3d81d",
   "metadata": {},
   "outputs": [],
   "source": [
    "texts = []\n",
    "for i in skills: \n",
    "    texts.append(i['text'])"
   ]
  },
  {
   "cell_type": "code",
   "execution_count": 18,
   "id": "4f4dd744",
   "metadata": {},
   "outputs": [],
   "source": [
    "count_of_words = []\n",
    "for i in texts: \n",
    "    count_of_words.append(len(i.split(' ')))"
   ]
  },
  {
   "cell_type": "code",
   "execution_count": 19,
   "id": "f00c9f63",
   "metadata": {},
   "outputs": [
    {
     "data": {
      "text/plain": [
       "115.13755458515284"
      ]
     },
     "execution_count": 19,
     "metadata": {},
     "output_type": "execute_result"
    }
   ],
   "source": [
    "sum(count_of_words) / len(count_of_words)"
   ]
  },
  {
   "cell_type": "code",
   "execution_count": 20,
   "id": "17fa1808",
   "metadata": {},
   "outputs": [
    {
     "data": {
      "image/png": "[encoded data removed]",
      "text/plain": [
       "<Figure size 640x480 with 1 Axes>"
      ]
     },
     "metadata": {},
     "output_type": "display_data"
    }
   ],
   "source": [
    "plt.hist(count_of_words, bins=50)\n",
    "plt.title('Распределение количества слов в описаниях вакансий')\n",
    "plt.show()"
   ]
  },
  {
   "cell_type": "code",
   "execution_count": 21,
   "id": "11ed4f19",
   "metadata": {},
   "outputs": [
    {
     "data": {
      "text/plain": [
       "' фокус недели #фн сегодня ммк опубликует финансовую отчётность за 1 кв. 2020 #magn #отчетность магнит представит операционные результаты за 1 кв. 2020 #mgnt #результаты новатэк опубликует финансовую отчётность за 1 кв. 2020 #nvtk #отчетность фрс сша представит решение по процентной ставке #фрс #макро tesla опубликует финансовую отчётность за 1 кв. 2020 #tsla #отчетность microsoft опубликует финансовую отчётность за 1 кв. 2020 #msft #отчетность facebook опубликует финансовую отчётность за 1 кв. 2020 #fb #отчетность 30 апреля детский мир опубликует финансовую отчётность по мсфо за 2019 #dsky #отчетность энел россия опубликует финансовую отчётность по рсбу за 1 кв. #enru #отчетность evraz представит операционные результаты за 1 кв. 2020 #evr #результаты норникель опубликует производственные результаты за 1 кв. 2020 #gmkn #результаты русгидро представит финансовую отчётность по рсбу за 1 кв. 2020 #hydr #отчетность сд нлмк рассмотрит дивиденды за 1 кв. 2020 #nlmk #дивиденды apple опубликует финансовую отчётность за 1 кв. 2020 #aapl #отчетность amazon опубликует финансовую отчётность за 1 кв. 2020 #amzn #отчетность gilead опубликует финансовую отчётность за 1 кв. 2020 #gild #отчетность 1 мая торги на мосбирже не проводятся из-за праздников #moex #график exxon mobil опубликует финансовую отчетность за 1 кв. 2020 #xom #отчетность chevron публикует финансовую отчетность за 1 кв. 2020 #cvx #отчетность 4 мая акции цмт последний день торгуются с дивидендом 0,56 руб. на акцию #wtcm #дивиденды'"
      ]
     },
     "execution_count": 21,
     "metadata": {},
     "output_type": "execute_result"
    }
   ],
   "source": [
    "texts[0]"
   ]
  },
  {
   "cell_type": "code",
   "execution_count": 22,
   "id": "249a9185",
   "metadata": {},
   "outputs": [],
   "source": [
    "data_texts = pd.DataFrame()\n",
    "data_texts['description'] = texts "
   ]
  },
  {
   "cell_type": "code",
   "execution_count": 23,
   "id": "3cfce6df",
   "metadata": {},
   "outputs": [
    {
     "data": {
      "text/html": [
       "<div>\n",
       "<style scoped>\n",
       "    .dataframe tbody tr th:only-of-type {\n",
       "        vertical-align: middle;\n",
       "    }\n",
       "\n",
       "    .dataframe tbody tr th {\n",
       "        vertical-align: top;\n",
       "    }\n",
       "\n",
       "    .dataframe thead th {\n",
       "        text-align: right;\n",
       "    }\n",
       "</style>\n",
       "<table border=\"1\" class=\"dataframe\">\n",
       "  <thead>\n",
       "    <tr style=\"text-align: right;\">\n",
       "      <th></th>\n",
       "      <th>description</th>\n",
       "    </tr>\n",
       "  </thead>\n",
       "  <tbody>\n",
       "    <tr>\n",
       "      <th>0</th>\n",
       "      <td>фокус недели #фн сегодня ммк опубликует финан...</td>\n",
       "    </tr>\n",
       "    <tr>\n",
       "      <th>1</th>\n",
       "      <td>#lsrg лср - операционные результаты (2019г) *п...</td>\n",
       "    </tr>\n",
       "    <tr>\n",
       "      <th>2</th>\n",
       "      <td>#chmf северсталь (chmf) впервые поставила в бр...</td>\n",
       "    </tr>\n",
       "    <tr>\n",
       "      <th>3</th>\n",
       "      <td>\"версия: многоходовочка по роснефти роснефтега...</td>\n",
       "    </tr>\n",
       "    <tr>\n",
       "      <th>4</th>\n",
       "      <td>🟢 новости к этому часу ⚪️фрс сша необходимо пр...</td>\n",
       "    </tr>\n",
       "    <tr>\n",
       "      <th>...</th>\n",
       "      <td>...</td>\n",
       "    </tr>\n",
       "    <tr>\n",
       "      <th>19231</th>\n",
       "      <td>\"#nlmk \"новолипецкий металлургический комбинат...</td>\n",
       "    </tr>\n",
       "    <tr>\n",
       "      <th>19232</th>\n",
       "      <td>за 2020 год на мосбирже может появиться 10 но...</td>\n",
       "    </tr>\n",
       "    <tr>\n",
       "      <th>19233</th>\n",
       "      <td>\"#five #ритейлеры #россия сделки \"магнита\" с \"...</td>\n",
       "    </tr>\n",
       "    <tr>\n",
       "      <th>19234</th>\n",
       "      <td>upd: та интер рао upd: та новатэк</td>\n",
       "    </tr>\n",
       "    <tr>\n",
       "      <th>19235</th>\n",
       "      <td>🇷🇺#mvid #отчетность 12 марта - м.видео - мсфо ...</td>\n",
       "    </tr>\n",
       "  </tbody>\n",
       "</table>\n",
       "<p>19236 rows × 1 columns</p>\n",
       "</div>"
      ],
      "text/plain": [
       "                                             description\n",
       "0       фокус недели #фн сегодня ммк опубликует финан...\n",
       "1      #lsrg лср - операционные результаты (2019г) *п...\n",
       "2      #chmf северсталь (chmf) впервые поставила в бр...\n",
       "3      \"версия: многоходовочка по роснефти роснефтега...\n",
       "4      🟢 новости к этому часу ⚪️фрс сша необходимо пр...\n",
       "...                                                  ...\n",
       "19231  \"#nlmk \"новолипецкий металлургический комбинат...\n",
       "19232   за 2020 год на мосбирже может появиться 10 но...\n",
       "19233  \"#five #ритейлеры #россия сделки \"магнита\" с \"...\n",
       "19234                  upd: та интер рао upd: та новатэк\n",
       "19235  🇷🇺#mvid #отчетность 12 марта - м.видео - мсфо ...\n",
       "\n",
       "[19236 rows x 1 columns]"
      ]
     },
     "execution_count": 23,
     "metadata": {},
     "output_type": "execute_result"
    }
   ],
   "source": [
    "data_texts"
   ]
  },
  {
   "cell_type": "code",
   "execution_count": 28,
   "id": "446459af",
   "metadata": {},
   "outputs": [
    {
     "data": {
      "text/plain": [
       "[[6, 9], [1, 5]]"
      ]
     },
     "execution_count": 28,
     "metadata": {},
     "output_type": "execute_result"
    }
   ],
   "source": [
    "skills[1]['name']"
   ]
  },
  {
   "cell_type": "code",
   "execution_count": 29,
   "id": "8cedee7d",
   "metadata": {},
   "outputs": [],
   "source": [
    "all_intervals = []\n",
    "all_skills = []\n",
    "left_shift = 0\n",
    "for j in range(len(skills)):\n",
    "    intervals = []\n",
    "    skiller = []\n",
    "    skills_text = data_texts.loc[j]['description']\n",
    "    for i in range(len(skills[j]['name'])):\n",
    "        if skills[j]['name'][i][1] <= len(skills_text):\n",
    "            interval = skills[j]['name'][i]\n",
    "            start = interval[0] - left_shift\n",
    "            end = interval[1] - left_shift\n",
    "            while skills_text[start] == ' ' and start < end: \n",
    "                start += 1\n",
    "            while skills_text[end - 1] == ' ' and end > start:\n",
    "                end -= 1\n",
    "            left = skills_text[:start].count(' ')\n",
    "            right = skills_text[:end].count(' ')\n",
    "            intervals.append(str(start - left)+':'+str(end - right))\n",
    "            skiller.append(skills_text[start:end])\n",
    "\n",
    "    all_intervals.append(intervals)\n",
    "    all_skills.append(skiller)"
   ]
  },
  {
   "cell_type": "code",
   "execution_count": 30,
   "id": "3aca1ce8",
   "metadata": {},
   "outputs": [
    {
     "data": {
      "text/plain": [
       "45868"
      ]
     },
     "execution_count": 30,
     "metadata": {},
     "output_type": "execute_result"
    }
   ],
   "source": [
    "counter = 0\n",
    "for i in range(len(all_skills)): \n",
    "    counter += len(all_skills[i]) \n",
    "counter"
   ]
  },
  {
   "cell_type": "code",
   "execution_count": 31,
   "id": "ca738dd9",
   "metadata": {},
   "outputs": [],
   "source": [
    "found_skills = []\n",
    "for i in all_intervals: \n",
    "    found_skills.append(';'.join(i))"
   ]
  },
  {
   "cell_type": "code",
   "execution_count": 32,
   "id": "6f62c68c",
   "metadata": {},
   "outputs": [],
   "source": [
    "found_name_skills = []\n",
    "for i in all_skills: \n",
    "    found_name_skills.append(';'.join(i))"
   ]
  },
  {
   "cell_type": "code",
   "execution_count": 33,
   "id": "41cf3380",
   "metadata": {},
   "outputs": [
    {
     "data": {
      "text/plain": [
       "19236"
      ]
     },
     "execution_count": 33,
     "metadata": {},
     "output_type": "execute_result"
    }
   ],
   "source": [
    "len(found_skills)"
   ]
  },
  {
   "cell_type": "code",
   "execution_count": 34,
   "id": "a196414e",
   "metadata": {},
   "outputs": [],
   "source": [
    "data_texts['desc_skills'] = found_name_skills\n",
    "data_texts['skills_ind'] = found_skills"
   ]
  },
  {
   "cell_type": "code",
   "execution_count": 35,
   "id": "73fe59f1",
   "metadata": {},
   "outputs": [
    {
     "data": {
      "text/html": [
       "<div>\n",
       "<style scoped>\n",
       "    .dataframe tbody tr th:only-of-type {\n",
       "        vertical-align: middle;\n",
       "    }\n",
       "\n",
       "    .dataframe tbody tr th {\n",
       "        vertical-align: top;\n",
       "    }\n",
       "\n",
       "    .dataframe thead th {\n",
       "        text-align: right;\n",
       "    }\n",
       "</style>\n",
       "<table border=\"1\" class=\"dataframe\">\n",
       "  <thead>\n",
       "    <tr style=\"text-align: right;\">\n",
       "      <th></th>\n",
       "      <th>description</th>\n",
       "      <th>desc_skills</th>\n",
       "      <th>skills_ind</th>\n",
       "    </tr>\n",
       "  </thead>\n",
       "  <tbody>\n",
       "    <tr>\n",
       "      <th>0</th>\n",
       "      <td>фокус недели #фн сегодня ммк опубликует финан...</td>\n",
       "      <td>magn;ммк</td>\n",
       "      <td>65:69;21:24</td>\n",
       "    </tr>\n",
       "    <tr>\n",
       "      <th>1</th>\n",
       "      <td>#lsrg лср - операционные результаты (2019г) *п...</td>\n",
       "      <td>лср;lsrg</td>\n",
       "      <td>5:8;1:5</td>\n",
       "    </tr>\n",
       "    <tr>\n",
       "      <th>2</th>\n",
       "      <td>#chmf северсталь (chmf) впервые поставила в бр...</td>\n",
       "      <td>chmf;северсталь;chmf</td>\n",
       "      <td>16:20;5:15;1:5</td>\n",
       "    </tr>\n",
       "    <tr>\n",
       "      <th>3</th>\n",
       "      <td>\"версия: многоходовочка по роснефти роснефтега...</td>\n",
       "      <td>роснефти;роснефти;роснефте;роснефти;роснефте</td>\n",
       "      <td>213:221;204:212;182:190;24:32;32:40</td>\n",
       "    </tr>\n",
       "    <tr>\n",
       "      <th>4</th>\n",
       "      <td>🟢 новости к этому часу ⚪️фрс сша необходимо пр...</td>\n",
       "      <td>nvtk;новатэк</td>\n",
       "      <td>970:974;466:473</td>\n",
       "    </tr>\n",
       "    <tr>\n",
       "      <th>...</th>\n",
       "      <td>...</td>\n",
       "      <td>...</td>\n",
       "      <td>...</td>\n",
       "    </tr>\n",
       "    <tr>\n",
       "      <th>19231</th>\n",
       "      <td>\"#nlmk \"новолипецкий металлургический комбинат...</td>\n",
       "      <td>нлмк;nlmk;нлмк</td>\n",
       "      <td>705:709;2:6;752:756</td>\n",
       "    </tr>\n",
       "    <tr>\n",
       "      <th>19232</th>\n",
       "      <td>за 2020 год на мосбирже может появиться 10 но...</td>\n",
       "      <td>эталон груп</td>\n",
       "      <td>220:230</td>\n",
       "    </tr>\n",
       "    <tr>\n",
       "      <th>19233</th>\n",
       "      <td>\"#five #ритейлеры #россия сделки \"магнита\" с \"...</td>\n",
       "      <td></td>\n",
       "      <td></td>\n",
       "    </tr>\n",
       "    <tr>\n",
       "      <th>19234</th>\n",
       "      <td>upd: та интер рао upd: та новатэк</td>\n",
       "      <td>новатэк</td>\n",
       "      <td>20:27</td>\n",
       "    </tr>\n",
       "    <tr>\n",
       "      <th>19235</th>\n",
       "      <td>🇷🇺#mvid #отчетность 12 марта - м.видео - мсфо ...</td>\n",
       "      <td>mvid</td>\n",
       "      <td>3:7</td>\n",
       "    </tr>\n",
       "  </tbody>\n",
       "</table>\n",
       "<p>19236 rows × 3 columns</p>\n",
       "</div>"
      ],
      "text/plain": [
       "                                             description  \\\n",
       "0       фокус недели #фн сегодня ммк опубликует финан...   \n",
       "1      #lsrg лср - операционные результаты (2019г) *п...   \n",
       "2      #chmf северсталь (chmf) впервые поставила в бр...   \n",
       "3      \"версия: многоходовочка по роснефти роснефтега...   \n",
       "4      🟢 новости к этому часу ⚪️фрс сша необходимо пр...   \n",
       "...                                                  ...   \n",
       "19231  \"#nlmk \"новолипецкий металлургический комбинат...   \n",
       "19232   за 2020 год на мосбирже может появиться 10 но...   \n",
       "19233  \"#five #ритейлеры #россия сделки \"магнита\" с \"...   \n",
       "19234                  upd: та интер рао upd: та новатэк   \n",
       "19235  🇷🇺#mvid #отчетность 12 марта - м.видео - мсфо ...   \n",
       "\n",
       "                                        desc_skills  \\\n",
       "0                                          magn;ммк   \n",
       "1                                          лср;lsrg   \n",
       "2                              chmf;северсталь;chmf   \n",
       "3      роснефти;роснефти;роснефте;роснефти;роснефте   \n",
       "4                                      nvtk;новатэк   \n",
       "...                                             ...   \n",
       "19231                                нлмк;nlmk;нлмк   \n",
       "19232                                   эталон груп   \n",
       "19233                                                 \n",
       "19234                                       новатэк   \n",
       "19235                                          mvid   \n",
       "\n",
       "                                skills_ind  \n",
       "0                              65:69;21:24  \n",
       "1                                  5:8;1:5  \n",
       "2                           16:20;5:15;1:5  \n",
       "3      213:221;204:212;182:190;24:32;32:40  \n",
       "4                          970:974;466:473  \n",
       "...                                    ...  \n",
       "19231                  705:709;2:6;752:756  \n",
       "19232                              220:230  \n",
       "19233                                       \n",
       "19234                                20:27  \n",
       "19235                                  3:7  \n",
       "\n",
       "[19236 rows x 3 columns]"
      ]
     },
     "execution_count": 35,
     "metadata": {},
     "output_type": "execute_result"
    }
   ],
   "source": [
    "data_texts"
   ]
  },
  {
   "cell_type": "code",
   "execution_count": 36,
   "id": "0ce24a73",
   "metadata": {},
   "outputs": [],
   "source": [
    "data_texts.to_csv('data_less_ind.csv', index=False)"
   ]
  },
  {
   "cell_type": "code",
   "execution_count": null,
   "id": "17402a8d",
   "metadata": {},
   "outputs": [],
   "source": []
  }
 ],
 "metadata": {
  "kernelspec": {
   "display_name": "Python 3 (ipykernel)",
   "language": "python",
   "name": "python3"
  },
  "language_info": {
   "codemirror_mode": {
    "name": "ipython",
    "version": 3
   },
   "file_extension": ".py",
   "mimetype": "text/x-python",
   "name": "python",
   "nbconvert_exporter": "python",
   "pygments_lexer": "ipython3",
   "version": "3.12.3"
  }
 },
 "nbformat": 4,
 "nbformat_minor": 5
}
